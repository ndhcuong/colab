{
  "nbformat": 4,
  "nbformat_minor": 0,
  "metadata": {
    "colab": {
      "name": "loop04.ipynb",
      "provenance": [],
      "collapsed_sections": [],
      "include_colab_link": true
    },
    "kernelspec": {
      "name": "python3",
      "display_name": "Python 3"
    }
  },
  "cells": [
    {
      "cell_type": "markdown",
      "metadata": {
        "id": "view-in-github",
        "colab_type": "text"
      },
      "source": [
        "<a href=\"https://colab.research.google.com/github/ndhcuong/colab/blob/master/loop04.ipynb\" target=\"_parent\"><img src=\"https://colab.research.google.com/assets/colab-badge.svg\" alt=\"Open In Colab\"/></a>"
      ]
    },
    {
      "cell_type": "markdown",
      "metadata": {
        "id": "kwNt3iM5QRG-",
        "colab_type": "text"
      },
      "source": [
        "The Syracuse (also called \"Collatz\" or \"Hailstone\") sequence is generated\n",
        "by starting with a natural number and repeatedly applying the following\n",
        "function until reaching 1 :\n",
        "$ syr(x) = x/2 $ if x is even, or $ syr(x) = 3x + 1$ if x is odd. \n",
        "For example, the Syracuse sequence starting with 5 is: 5, 16, 8, 4, 2, 1. It is\n",
        "an open question in mathematics whether this sequence will always go to\n",
        "1 for every possible starting value.\n",
        "Write a program that gets a starting value from the user and then prints\n",
        "the Syracuse sequence for that starting value."
      ]
    },
    {
      "cell_type": "code",
      "metadata": {
        "id": "ie_1hqqvT5K1",
        "colab_type": "code",
        "colab": {
          "base_uri": "https://localhost:8080/",
          "height": 52
        },
        "outputId": "c3f5e3fe-0319-4c23-c803-8f360f34d707"
      },
      "source": [
        "x = int(input(\"Starting value: \"))\n",
        "\n",
        "message = str(x)\n",
        "syr = x\n",
        "\n",
        "while syr != 1:\n",
        "  x = syr\n",
        "  if x % 2 == 0:\n",
        "    syr = x // 2\n",
        "  else:\n",
        "    syr = 3*x + 1\n",
        "  message = message + \", \" + str(syr)\n",
        "\n",
        "print(message)\n"
      ],
      "execution_count": 3,
      "outputs": [
        {
          "output_type": "stream",
          "text": [
            "Starting value: 5\n",
            "5, 16, 8, 4, 2, 1\n"
          ],
          "name": "stdout"
        }
      ]
    }
  ]
}