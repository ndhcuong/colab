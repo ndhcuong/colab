{
  "nbformat": 4,
  "nbformat_minor": 0,
  "metadata": {
    "colab": {
      "name": "exercise03.ipynb",
      "provenance": [],
      "collapsed_sections": [],
      "include_colab_link": true
    },
    "kernelspec": {
      "name": "python3",
      "display_name": "Python 3"
    }
  },
  "cells": [
    {
      "cell_type": "markdown",
      "metadata": {
        "id": "view-in-github",
        "colab_type": "text"
      },
      "source": [
        "<a href=\"https://colab.research.google.com/github/ndhcuong/colab/blob/master/exercise03.ipynb\" target=\"_parent\"><img src=\"https://colab.research.google.com/assets/colab-badge.svg\" alt=\"Open In Colab\"/></a>"
      ]
    },
    {
      "cell_type": "markdown",
      "metadata": {
        "id": "k3mhhR9j0-gk",
        "colab_type": "text"
      },
      "source": [
        "A certain CS professor gives 100-point exams that are graded on the scale\n",
        "90-100:A, 80-89:B, 70-79:C, 60-69:D, <60:F. Write a program that accepts an exam score as input and uses a decision structure to calculate the\n",
        "corresponding grade."
      ]
    },
    {
      "cell_type": "code",
      "metadata": {
        "id": "3vrRZJRf03rM",
        "colab_type": "code",
        "colab": {
          "base_uri": "https://localhost:8080/",
          "height": 35
        },
        "outputId": "1cb41311-fdf3-4c94-d4b2-8ea709959af1"
      },
      "source": [
        "#step 1: get iput\n",
        "score = float(input(\"Your score: \"))"
      ],
      "execution_count": 1,
      "outputs": [
        {
          "output_type": "stream",
          "text": [
            "Your score: 45\n"
          ],
          "name": "stdout"
        }
      ]
    },
    {
      "cell_type": "code",
      "metadata": {
        "id": "hdw_UuA31Spd",
        "colab_type": "code",
        "colab": {
          "base_uri": "https://localhost:8080/",
          "height": 35
        },
        "outputId": "b256fcfa-1065-4872-f513-d91b622d12b6"
      },
      "source": [
        "#step 2: calculate grade\n",
        "if (score >= 90) and (score <= 100):\n",
        "  grade = \"A\"\n",
        "elif (score >= 80) and (score <= 89):\n",
        "  grade = \"B\"\n",
        "elif (score >= 70) and (score <= 79):\n",
        "  grade = \"C\"\n",
        "elif (score >= 60) and (score <= 69):\n",
        "  grade = \"D\"\n",
        "elif score < 60:\n",
        "  grade = \"F\"\n",
        "\n",
        "print(\"Your grade is \", grade)"
      ],
      "execution_count": 2,
      "outputs": [
        {
          "output_type": "stream",
          "text": [
            "Your grade is  F\n"
          ],
          "name": "stdout"
        }
      ]
    },
    {
      "cell_type": "code",
      "metadata": {
        "id": "v1_PcubY2KeY",
        "colab_type": "code",
        "colab": {
          "base_uri": "https://localhost:8080/",
          "height": 35
        },
        "outputId": "db2a567c-1d8c-4f0a-98be-2d6c4766eb1b"
      },
      "source": [
        "#Solution 2\n",
        "if score >= 90:\n",
        "  grade = \"A\"\n",
        "elif score >= 80:\n",
        "  grade = \"B\"\n",
        "elif score >= 70:\n",
        "  grade = \"C\"\n",
        "elif score >= 60:\n",
        "  grade = \"D\"\n",
        "else:\n",
        "  grade = \"F\"\n",
        "print(\"Your grade is \", grade)"
      ],
      "execution_count": 3,
      "outputs": [
        {
          "output_type": "stream",
          "text": [
            "Your grade is  F\n"
          ],
          "name": "stdout"
        }
      ]
    }
  ]
}