{
  "nbformat": 4,
  "nbformat_minor": 0,
  "metadata": {
    "colab": {
      "name": "exercise04.ipynb",
      "provenance": [],
      "collapsed_sections": [],
      "include_colab_link": true
    },
    "kernelspec": {
      "name": "python3",
      "display_name": "Python 3"
    }
  },
  "cells": [
    {
      "cell_type": "markdown",
      "metadata": {
        "id": "view-in-github",
        "colab_type": "text"
      },
      "source": [
        "<a href=\"https://colab.research.google.com/github/ndhcuong/colab/blob/master/exercise04.ipynb\" target=\"_parent\"><img src=\"https://colab.research.google.com/assets/colab-badge.svg\" alt=\"Open In Colab\"/></a>"
      ]
    },
    {
      "cell_type": "markdown",
      "metadata": {
        "id": "Q8A2Yjhb3U2N",
        "colab_type": "text"
      },
      "source": [
        "Exercise 4: A certain college classifies students according to credits earned. A student\n",
        "with less than 7 credits is a Freshman. At least 7 credits are required to be\n",
        "a Sophomore, 16 to be a Junior and 26 to be classified as a Senior. Write a\n",
        "program that calculates class standing from the number of credits earned."
      ]
    },
    {
      "cell_type": "code",
      "metadata": {
        "id": "eF7QGkPc3SdI",
        "colab_type": "code",
        "colab": {
          "base_uri": "https://localhost:8080/",
          "height": 35
        },
        "outputId": "671c1282-d2d2-4a13-aa8b-378b90d20b0a"
      },
      "source": [
        "#step 1: get input\n",
        "credits = int(input(\"Your earned credits: \"))"
      ],
      "execution_count": 1,
      "outputs": [
        {
          "output_type": "stream",
          "text": [
            "Your earned credits: 18\n"
          ],
          "name": "stdout"
        }
      ]
    },
    {
      "cell_type": "code",
      "metadata": {
        "id": "BxjYQqsB3lm6",
        "colab_type": "code",
        "colab": {
          "base_uri": "https://localhost:8080/",
          "height": 35
        },
        "outputId": "7ec26382-c025-43d4-edbf-e1429e7481a1"
      },
      "source": [
        "#step 2: class standing\n",
        "if credits < 7:\n",
        "  standing = \"Freshman\"\n",
        "elif credits < 16:\n",
        "  standing = \"Sophomore\"\n",
        "elif credits < 26:\n",
        "  standing = \"Junior\"\n",
        "else:\n",
        "  stading = \"Senior\"\n",
        "\n",
        "print(\"Your standing is: \", standing)"
      ],
      "execution_count": 2,
      "outputs": [
        {
          "output_type": "stream",
          "text": [
            "Your standing is:  Junior\n"
          ],
          "name": "stdout"
        }
      ]
    }
  ]
}