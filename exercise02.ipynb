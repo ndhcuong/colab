{
  "nbformat": 4,
  "nbformat_minor": 0,
  "metadata": {
    "colab": {
      "name": "exercise02.ipynb",
      "provenance": [],
      "collapsed_sections": [],
      "include_colab_link": true
    },
    "kernelspec": {
      "name": "python3",
      "display_name": "Python 3"
    }
  },
  "cells": [
    {
      "cell_type": "markdown",
      "metadata": {
        "id": "view-in-github",
        "colab_type": "text"
      },
      "source": [
        "<a href=\"https://colab.research.google.com/github/ndhcuong/colab/blob/master/exercise02.ipynb\" target=\"_parent\"><img src=\"https://colab.research.google.com/assets/colab-badge.svg\" alt=\"Open In Colab\"/></a>"
      ]
    },
    {
      "cell_type": "markdown",
      "metadata": {
        "id": "2wQvqaIFybqB",
        "colab_type": "text"
      },
      "source": [
        "Exercise 02: A certain CS professor gives five-point quizzes that are graded on the scale\n",
        "5-A, 4-B, 3-C, 2-D, 1-F, 0-F. Write a program that accepts a quiz score as an\n",
        "input and uses a decision structure to calculate the corresponding grade."
      ]
    },
    {
      "cell_type": "code",
      "metadata": {
        "id": "APida5HByYND",
        "colab_type": "code",
        "colab": {
          "base_uri": "https://localhost:8080/",
          "height": 52
        },
        "outputId": "536250c1-ab29-414a-d107-0ab6020af9a2"
      },
      "source": [
        "#step 1: input\n",
        "quiz_score = int(input(\"Input your quiz score: \"))\n",
        "#step 2: calculate the corresponding grade\n",
        "if quiz_score >= 5:\n",
        "  grade = \"A\"\n",
        "elif quiz_score == 4:\n",
        "  grade = \"B\"\n",
        "elif quiz_score == 3:\n",
        "  grade = \"C\"\n",
        "elif quiz_score == 2:\n",
        "  grade = \"D\"\n",
        "elif quiz_score == 1:\n",
        "  grade = \"F\"\n",
        "else:\n",
        "  grade = \"F\"\n",
        "print(\"Your grade is: \", grade)"
      ],
      "execution_count": 2,
      "outputs": [
        {
          "output_type": "stream",
          "text": [
            "Input your quiz score: 3\n",
            "Your grade is:  C\n"
          ],
          "name": "stdout"
        }
      ]
    }
  ]
}