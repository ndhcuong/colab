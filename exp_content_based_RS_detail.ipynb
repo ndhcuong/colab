{
  "nbformat": 4,
  "nbformat_minor": 0,
  "metadata": {
    "colab": {
      "name": "exp-content-based-RS-detail.ipynb",
      "version": "0.3.2",
      "provenance": [],
      "collapsed_sections": [],
      "include_colab_link": true
    },
    "language_info": {
      "codemirror_mode": {
        "name": "ipython",
        "version": 3
      },
      "file_extension": ".py",
      "mimetype": "text/x-python",
      "name": "python",
      "nbconvert_exporter": "python",
      "pygments_lexer": "ipython3",
      "version": "3.6.7"
    },
    "kernelspec": {
      "display_name": "Python 3",
      "language": "python",
      "name": "python3"
    }
  },
  "cells": [
    {
      "cell_type": "markdown",
      "metadata": {
        "id": "view-in-github",
        "colab_type": "text"
      },
      "source": [
        "<a href=\"https://colab.research.google.com/github/ndhcuong/colab/blob/master/exp_content_based_RS_detail.ipynb\" target=\"_parent\"><img src=\"https://colab.research.google.com/assets/colab-badge.svg\" alt=\"Open In Colab\"/></a>"
      ]
    },
    {
      "cell_type": "markdown",
      "metadata": {
        "id": "qrWoECPDubjR",
        "colab_type": "text"
      },
      "source": [
        "# CONTENT BASED RECOMMENDER\n",
        "\n",
        "## 1. Mô tả chung về bài toán Hệ tư vấn - Recommender system\n",
        "\n",
        "Cho 1 tập người dùng (users) $ U $ và 1 tập các items $ I $. Các user $ u \\in U $ tiến hành đánh giá từng item $ i \\in I $ theo thang đo $ s \\in S $. Tập hợp dữ liệu đánh giá này được gọi là rating matrix hoặc utility matrix. Ma trận được mô tả như sau:\n",
        "\n",
        "             \n",
        "|         | $ u_1 $ | $ u_2 $ | ... | $ u_n $ |\n",
        "|---------|---------|---------|-----|---------|\n",
        "| $ i_1 $ |    3    |    ?    |-----|    4    |\n",
        "| $ i_2 $ |    1    |    5    |-----|    ?    |\n",
        "|   ...   |   ...   |   ...   |-----|  ...    |\n",
        "| $ i_m $ |    ?    |    4    |-----|    1    |\n",
        "\n",
        "Dựa trên dữ liệu đánh giá này, bài toán hệ tư vấn đặt ra là hãy dự đoán rating của user $ u_j $ đối với item $ i_k $ mà user đó chưa đánh giá (nhận giá trị ?)\n"
      ]
    },
    {
      "cell_type": "markdown",
      "metadata": {
        "id": "YJCB1SuOubjT",
        "colab_type": "text"
      },
      "source": [
        "## 2. Content-based recommender system\n",
        "\n",
        "CB-RS là một nhánh nghiên cứu đặc thù của RS. Phương pháp tiếp cận của CB-RS như sau:\n",
        "\n",
        "    * Bước 1: Xây dựng profile cho mỗi item. Nghĩa là, các item được mô tả dưới dạng vector trong không gian n-chiều. Ví dụ: nếu item là movie thì được mô tả trong không gian 19 chiều với mỗi chiều là một thể loại phim (vd: Action, Comedy, ...). Giá trị của mỗi chiều có thể là giá trị nhị phân/ số thực / ... tùy vào từng bài toán cụ thể.\n",
        "    * Bước 2: Dựa trên item profile này cùng với giá trị rating (đóng vai trò class) tương ứng của user $ u_i $ đối với nó để hình thành nên vector đầu vào cho bài toán ML truyền thống. Việc tập hợp các giá trị rating và item profile vào định dạng này hình thành nên tập dữ liệu train & test cho bài toán classification / regression của machine learning.\n",
        "    * Bước 3: Dựa vào tập dữ liệu train - test ở bước 2, chúng ta xây dựng các mô hình ML như Regression / SVM / Naive Bayes ... để mô tả hành vi của user và dự đoán rating của user.\n",
        "    * Bước 4: Tiến hành sử dụng mô hình đã xây dựng để dự đoán và đánh giá hiệu năng của mô hình."
      ]
    },
    {
      "cell_type": "markdown",
      "metadata": {
        "id": "G4toCrDdubjU",
        "colab_type": "text"
      },
      "source": [
        "### 2.2 Dữ liệu của bài toán CB-RS\n",
        "\n",
        "Đối với từng user $ u_i $:\n",
        "\n",
        "|         | $ d_1 $ | $ d_2 $ | ... | $ d_n $ | $ u_i $ rate |\n",
        "|---------|---------|---------|-----|---------|--------------|\n",
        "| $ i_1 $ |    0    |    0    |-----|    1    |      3       |\n",
        "| $ i_2 $ |    1    |    0    |-----|    0    |      5       |\n",
        "|   ...   |   ...   |   ...   |-----|  ...    |     ...      |\n",
        "| $ i_m $ |    0    |    0    |-----|    1    |      1       |\n",
        "\n",
        "Tập dữ liệu rating này sẽ được chia thành train set và test set. (Mỗi item $ i_j $ được mô tả trong không gian n-chiều $ d_1 $ đến $ d_n $)"
      ]
    },
    {
      "cell_type": "markdown",
      "metadata": {
        "id": "l71uqdLqubjW",
        "colab_type": "text"
      },
      "source": [
        "### 2.3 Phương pháp xây dựng mô hình\n",
        "\n",
        "Xây dựng hàm $ f(i, \\theta): I \\rightarrow R $ với I là tập các item và R là giá trị rating tương ứng.\n",
        "\n",
        "Hàm $ f(i, \\theta) $ có thể được xây dựng bằng nhiều phương pháp khác nhau, như:\n",
        "\n",
        "Hồi quy: $ f(i, \\theta) = \\theta_1*d_1^i + \\theta_2*d_2^i + ... + \\theta_n*d_n^i + b $. Quá trình huấn luyện sẽ tìm ra giá trị cụ thể của từng $ \\theta_i $.\n",
        "\n",
        "Naive bayes, SVM, Mạng nơ-ron nhân tạo, .v.v."
      ]
    },
    {
      "cell_type": "markdown",
      "metadata": {
        "id": "Q904kHatubjW",
        "colab_type": "text"
      },
      "source": [
        "## 3. Thực hành xây dựng CB-RS với tập dữ liệu MovieLens 100k\n",
        "Mô tả dữ liệu:\n",
        "    * u.data: chứa toàn bộ các đánh giá của 943 user cho 1682 movies. Mỗi user đánh giá ít nhất là 20 bộ phim.\n",
        "    * ua.base, ua.test, ub.base, ub.test: là các tập train - test ứng với 2 cách chia khác nhau là (a, b)\n",
        "    * u.user: chứa đựng thông tin về user (id, tuổi, giới tính, nghệ nghiệp, zipcode (vùng miền))\n",
        "    * u_genre: chứa tên của 19 thể loại phim như unknown, Action, Comedy, ...\n",
        "    * u_item: thông tin về mỗi bộ phim "
      ]
    },
    {
      "cell_type": "code",
      "metadata": {
        "id": "c7C-JrlRubjX",
        "colab_type": "code",
        "outputId": "ad9dd9e3-e863-437d-9892-96cb30b030bc",
        "colab": {
          "base_uri": "https://localhost:8080/",
          "height": 127
        }
      },
      "source": [
        "from google.colab import drive\n",
        "\n",
        "\n",
        "# thư mục chứa dữ liệu\n",
        "#home_data = '/drive/Colab Notebooks/recommender/data/movielens100k'\n",
        "home_data = '/content/drive'\n",
        "\n",
        "drive.mount(home_data,force_remount=True)"
      ],
      "execution_count": 0,
      "outputs": [
        {
          "output_type": "stream",
          "text": [
            "Go to this URL in a browser: https://accounts.google.com/o/oauth2/auth?client_id=947318989803-6bn6qk8qdgf4n4g3pfee6491hc0brc4i.apps.googleusercontent.com&redirect_uri=urn%3Aietf%3Awg%3Aoauth%3A2.0%3Aoob&scope=email%20https%3A%2F%2Fwww.googleapis.com%2Fauth%2Fdocs.test%20https%3A%2F%2Fwww.googleapis.com%2Fauth%2Fdrive%20https%3A%2F%2Fwww.googleapis.com%2Fauth%2Fdrive.photos.readonly%20https%3A%2F%2Fwww.googleapis.com%2Fauth%2Fpeopleapi.readonly&response_type=code\n",
            "\n",
            "Enter your authorization code:\n",
            "··········\n",
            "Mounted at /content/drive\n"
          ],
          "name": "stdout"
        }
      ]
    },
    {
      "cell_type": "markdown",
      "metadata": {
        "id": "3MegGGoIubjb",
        "colab_type": "text"
      },
      "source": [
        "### 3.1 Đọc dữ liệu"
      ]
    },
    {
      "cell_type": "code",
      "metadata": {
        "id": "LE5HP3Vkubjc",
        "colab_type": "code",
        "outputId": "12d3e58b-3bf1-4cca-962c-0b54b7ae3cf3",
        "colab": {
          "base_uri": "https://localhost:8080/",
          "height": 35
        }
      },
      "source": [
        "import os\n",
        "import numpy as np\n",
        "import pandas as pd\n",
        "\n",
        "\n",
        "# Đọc thông tin về người dùng\n",
        "u_cols = ['user_id', 'age', 'sex', 'occupation', 'zip_code']\n",
        "users = pd.read_csv(home_data + \n",
        "                    '/My Drive/Colab Notebooks/recommender/data/movielens100k' \n",
        "                    + '/' + 'u.user', sep = '|', names = u_cols)\n",
        "n_users = users.shape[0]\n",
        "print('Number of users: ', n_users)"
      ],
      "execution_count": 0,
      "outputs": [
        {
          "output_type": "stream",
          "text": [
            "Number of users:  943\n"
          ],
          "name": "stdout"
        }
      ]
    },
    {
      "cell_type": "code",
      "metadata": {
        "id": "04lTAkT5ubji",
        "colab_type": "code",
        "outputId": "54c84645-699e-40f5-d761-dad9f8364e0c",
        "colab": {
          "base_uri": "https://localhost:8080/",
          "height": 204
        }
      },
      "source": [
        "#Hiển thị 5 dòng đầu tiên\n",
        "users.head(5)"
      ],
      "execution_count": 0,
      "outputs": [
        {
          "output_type": "execute_result",
          "data": {
            "text/html": [
              "<div>\n",
              "<style scoped>\n",
              "    .dataframe tbody tr th:only-of-type {\n",
              "        vertical-align: middle;\n",
              "    }\n",
              "\n",
              "    .dataframe tbody tr th {\n",
              "        vertical-align: top;\n",
              "    }\n",
              "\n",
              "    .dataframe thead th {\n",
              "        text-align: right;\n",
              "    }\n",
              "</style>\n",
              "<table border=\"1\" class=\"dataframe\">\n",
              "  <thead>\n",
              "    <tr style=\"text-align: right;\">\n",
              "      <th></th>\n",
              "      <th>user_id</th>\n",
              "      <th>age</th>\n",
              "      <th>sex</th>\n",
              "      <th>occupation</th>\n",
              "      <th>zip_code</th>\n",
              "    </tr>\n",
              "  </thead>\n",
              "  <tbody>\n",
              "    <tr>\n",
              "      <th>0</th>\n",
              "      <td>1</td>\n",
              "      <td>24</td>\n",
              "      <td>M</td>\n",
              "      <td>technician</td>\n",
              "      <td>85711</td>\n",
              "    </tr>\n",
              "    <tr>\n",
              "      <th>1</th>\n",
              "      <td>2</td>\n",
              "      <td>53</td>\n",
              "      <td>F</td>\n",
              "      <td>other</td>\n",
              "      <td>94043</td>\n",
              "    </tr>\n",
              "    <tr>\n",
              "      <th>2</th>\n",
              "      <td>3</td>\n",
              "      <td>23</td>\n",
              "      <td>M</td>\n",
              "      <td>writer</td>\n",
              "      <td>32067</td>\n",
              "    </tr>\n",
              "    <tr>\n",
              "      <th>3</th>\n",
              "      <td>4</td>\n",
              "      <td>24</td>\n",
              "      <td>M</td>\n",
              "      <td>technician</td>\n",
              "      <td>43537</td>\n",
              "    </tr>\n",
              "    <tr>\n",
              "      <th>4</th>\n",
              "      <td>5</td>\n",
              "      <td>33</td>\n",
              "      <td>F</td>\n",
              "      <td>other</td>\n",
              "      <td>15213</td>\n",
              "    </tr>\n",
              "  </tbody>\n",
              "</table>\n",
              "</div>"
            ],
            "text/plain": [
              "   user_id  age sex  occupation zip_code\n",
              "0        1   24   M  technician    85711\n",
              "1        2   53   F       other    94043\n",
              "2        3   23   M      writer    32067\n",
              "3        4   24   M  technician    43537\n",
              "4        5   33   F       other    15213"
            ]
          },
          "metadata": {
            "tags": []
          },
          "execution_count": 18
        }
      ]
    },
    {
      "cell_type": "code",
      "metadata": {
        "id": "gh0WoSB_ubjm",
        "colab_type": "code",
        "outputId": "3ab935c7-161c-4236-c924-761b06047921",
        "colab": {
          "base_uri": "https://localhost:8080/",
          "height": 53
        }
      },
      "source": [
        "# Đọc rating profile\n",
        "r_cols = ['user_id', 'movie_id', 'rating', 'unix_timestamp']\n",
        "\n",
        "rating_base = pd.read_csv(home_data + \n",
        "                    '/My Drive/Colab Notebooks/recommender/data/movielens100k' \n",
        "                    + '/' + 'ua.base', sep = '\\t', names = r_cols)\n",
        "rating_test = pd.read_csv(home_data + \n",
        "                    '/My Drive/Colab Notebooks/recommender/data/movielens100k' \n",
        "                    + '/' + 'ua.test', sep = '\\t', names = r_cols)\n",
        "print('Number of training instances: ', rating_base.shape[0])\n",
        "print('Number of testing instances: ', rating_test.shape[0])"
      ],
      "execution_count": 0,
      "outputs": [
        {
          "output_type": "stream",
          "text": [
            "Number of training instances:  90570\n",
            "Number of testing instances:  9430\n"
          ],
          "name": "stdout"
        }
      ]
    },
    {
      "cell_type": "code",
      "metadata": {
        "id": "dJCkxZl4ubjq",
        "colab_type": "code",
        "outputId": "ee018407-fbac-4743-9a32-7b19ad4474c2",
        "colab": {
          "base_uri": "https://localhost:8080/",
          "height": 204
        }
      },
      "source": [
        "#Hiển thị 5 dòng đầu của rating_base\n",
        "rating_base.head(5)"
      ],
      "execution_count": 0,
      "outputs": [
        {
          "output_type": "execute_result",
          "data": {
            "text/html": [
              "<div>\n",
              "<style scoped>\n",
              "    .dataframe tbody tr th:only-of-type {\n",
              "        vertical-align: middle;\n",
              "    }\n",
              "\n",
              "    .dataframe tbody tr th {\n",
              "        vertical-align: top;\n",
              "    }\n",
              "\n",
              "    .dataframe thead th {\n",
              "        text-align: right;\n",
              "    }\n",
              "</style>\n",
              "<table border=\"1\" class=\"dataframe\">\n",
              "  <thead>\n",
              "    <tr style=\"text-align: right;\">\n",
              "      <th></th>\n",
              "      <th>user_id</th>\n",
              "      <th>movie_id</th>\n",
              "      <th>rating</th>\n",
              "      <th>unix_timestamp</th>\n",
              "    </tr>\n",
              "  </thead>\n",
              "  <tbody>\n",
              "    <tr>\n",
              "      <th>0</th>\n",
              "      <td>1</td>\n",
              "      <td>1</td>\n",
              "      <td>5</td>\n",
              "      <td>874965758</td>\n",
              "    </tr>\n",
              "    <tr>\n",
              "      <th>1</th>\n",
              "      <td>1</td>\n",
              "      <td>2</td>\n",
              "      <td>3</td>\n",
              "      <td>876893171</td>\n",
              "    </tr>\n",
              "    <tr>\n",
              "      <th>2</th>\n",
              "      <td>1</td>\n",
              "      <td>3</td>\n",
              "      <td>4</td>\n",
              "      <td>878542960</td>\n",
              "    </tr>\n",
              "    <tr>\n",
              "      <th>3</th>\n",
              "      <td>1</td>\n",
              "      <td>4</td>\n",
              "      <td>3</td>\n",
              "      <td>876893119</td>\n",
              "    </tr>\n",
              "    <tr>\n",
              "      <th>4</th>\n",
              "      <td>1</td>\n",
              "      <td>5</td>\n",
              "      <td>3</td>\n",
              "      <td>889751712</td>\n",
              "    </tr>\n",
              "  </tbody>\n",
              "</table>\n",
              "</div>"
            ],
            "text/plain": [
              "   user_id  movie_id  rating  unix_timestamp\n",
              "0        1         1       5       874965758\n",
              "1        1         2       3       876893171\n",
              "2        1         3       4       878542960\n",
              "3        1         4       3       876893119\n",
              "4        1         5       3       889751712"
            ]
          },
          "metadata": {
            "tags": []
          },
          "execution_count": 21
        }
      ]
    },
    {
      "cell_type": "markdown",
      "metadata": {
        "id": "SjDezd31ubjt",
        "colab_type": "text"
      },
      "source": [
        "Chuyển data frame `rating_base` và `rating_test` thành kiểu ma trận của numpy để dễ dàng đưa vào huấn luyện trong các mô hình của `sklearn`."
      ]
    },
    {
      "cell_type": "code",
      "metadata": {
        "id": "7cJ8p11subju",
        "colab_type": "code",
        "outputId": "97aaf8b6-5103-49c6-9ec9-bd593a0e1544",
        "colab": {
          "base_uri": "https://localhost:8080/",
          "height": 109
        }
      },
      "source": [
        "rate_train = rating_base.as_matrix()\n",
        "rate_test = rating_test.as_matrix()"
      ],
      "execution_count": 0,
      "outputs": [
        {
          "output_type": "stream",
          "text": [
            "/usr/local/lib/python3.6/dist-packages/ipykernel_launcher.py:1: FutureWarning: Method .as_matrix will be removed in a future version. Use .values instead.\n",
            "  \"\"\"Entry point for launching an IPython kernel.\n",
            "/usr/local/lib/python3.6/dist-packages/ipykernel_launcher.py:2: FutureWarning: Method .as_matrix will be removed in a future version. Use .values instead.\n",
            "  \n"
          ],
          "name": "stderr"
        }
      ]
    },
    {
      "cell_type": "code",
      "metadata": {
        "id": "iDOpvRRcubjx",
        "colab_type": "code",
        "outputId": "a427a183-6c4c-48cb-d61a-3860f4207a70",
        "colab": {
          "base_uri": "https://localhost:8080/",
          "height": 107
        }
      },
      "source": [
        "#Hiển thị 5 dòng đầu của ma trận rate_test\n",
        "rate_test[:5,:]"
      ],
      "execution_count": 0,
      "outputs": [
        {
          "output_type": "execute_result",
          "data": {
            "text/plain": [
              "array([[        1,        20,         4, 887431883],\n",
              "       [        1,        33,         4, 878542699],\n",
              "       [        1,        61,         4, 878542420],\n",
              "       [        1,       117,         3, 874965739],\n",
              "       [        1,       155,         2, 878542201]])"
            ]
          },
          "metadata": {
            "tags": []
          },
          "execution_count": 23
        }
      ]
    },
    {
      "cell_type": "markdown",
      "metadata": {
        "id": "6lI_u5Kuubj2",
        "colab_type": "text"
      },
      "source": [
        "Đọc dữ liệu mô tả item (item profile)"
      ]
    },
    {
      "cell_type": "code",
      "metadata": {
        "id": "ZozaKnaEubj3",
        "colab_type": "code",
        "outputId": "2e2246f0-e88d-481b-b2c5-42c4c989a81f",
        "colab": {
          "base_uri": "https://localhost:8080/",
          "height": 35
        }
      },
      "source": [
        "# Doc items file:\n",
        "i_cols = ['movie id', 'movie title' ,'release date','video release date', 'IMDb URL', 'unknown', 'Action', \n",
        "          'Adventure', 'Animation', 'Children\\'s', 'Comedy', 'Crime', 'Documentary', 'Drama', 'Fantasy',\n",
        "          'Film-Noir', 'Horror', 'Musical', 'Mystery', 'Romance', 'Sci-Fi', 'Thriller', 'War', 'Western']\n",
        "\n",
        "items = pd.read_csv(home_data + \n",
        "                    '/My Drive/Colab Notebooks/recommender/data/movielens100k' \n",
        "                    + '/' + 'u.item', \n",
        "                    sep='|', names=i_cols, encoding='latin-1')\n",
        "\n",
        "n_items = items.shape[0]\n",
        "print('Number of items:', n_items)"
      ],
      "execution_count": 0,
      "outputs": [
        {
          "output_type": "stream",
          "text": [
            "Number of items: 1682\n"
          ],
          "name": "stdout"
        }
      ]
    },
    {
      "cell_type": "code",
      "metadata": {
        "id": "2fZ5d1msubj6",
        "colab_type": "code",
        "outputId": "278f057e-4364-4b83-a7e6-9b98c698b7be",
        "colab": {
          "base_uri": "https://localhost:8080/",
          "height": 293
        }
      },
      "source": [
        "#Hiển thị 3 dòng đầu tiên\n",
        "items.head(3)"
      ],
      "execution_count": 0,
      "outputs": [
        {
          "output_type": "execute_result",
          "data": {
            "text/html": [
              "<div>\n",
              "<style scoped>\n",
              "    .dataframe tbody tr th:only-of-type {\n",
              "        vertical-align: middle;\n",
              "    }\n",
              "\n",
              "    .dataframe tbody tr th {\n",
              "        vertical-align: top;\n",
              "    }\n",
              "\n",
              "    .dataframe thead th {\n",
              "        text-align: right;\n",
              "    }\n",
              "</style>\n",
              "<table border=\"1\" class=\"dataframe\">\n",
              "  <thead>\n",
              "    <tr style=\"text-align: right;\">\n",
              "      <th></th>\n",
              "      <th>movie id</th>\n",
              "      <th>movie title</th>\n",
              "      <th>release date</th>\n",
              "      <th>video release date</th>\n",
              "      <th>IMDb URL</th>\n",
              "      <th>unknown</th>\n",
              "      <th>Action</th>\n",
              "      <th>Adventure</th>\n",
              "      <th>Animation</th>\n",
              "      <th>Children's</th>\n",
              "      <th>...</th>\n",
              "      <th>Fantasy</th>\n",
              "      <th>Film-Noir</th>\n",
              "      <th>Horror</th>\n",
              "      <th>Musical</th>\n",
              "      <th>Mystery</th>\n",
              "      <th>Romance</th>\n",
              "      <th>Sci-Fi</th>\n",
              "      <th>Thriller</th>\n",
              "      <th>War</th>\n",
              "      <th>Western</th>\n",
              "    </tr>\n",
              "  </thead>\n",
              "  <tbody>\n",
              "    <tr>\n",
              "      <th>0</th>\n",
              "      <td>1</td>\n",
              "      <td>Toy Story (1995)</td>\n",
              "      <td>01-Jan-1995</td>\n",
              "      <td>NaN</td>\n",
              "      <td>http://us.imdb.com/M/title-exact?Toy%20Story%2...</td>\n",
              "      <td>0</td>\n",
              "      <td>0</td>\n",
              "      <td>0</td>\n",
              "      <td>1</td>\n",
              "      <td>1</td>\n",
              "      <td>...</td>\n",
              "      <td>0</td>\n",
              "      <td>0</td>\n",
              "      <td>0</td>\n",
              "      <td>0</td>\n",
              "      <td>0</td>\n",
              "      <td>0</td>\n",
              "      <td>0</td>\n",
              "      <td>0</td>\n",
              "      <td>0</td>\n",
              "      <td>0</td>\n",
              "    </tr>\n",
              "    <tr>\n",
              "      <th>1</th>\n",
              "      <td>2</td>\n",
              "      <td>GoldenEye (1995)</td>\n",
              "      <td>01-Jan-1995</td>\n",
              "      <td>NaN</td>\n",
              "      <td>http://us.imdb.com/M/title-exact?GoldenEye%20(...</td>\n",
              "      <td>0</td>\n",
              "      <td>1</td>\n",
              "      <td>1</td>\n",
              "      <td>0</td>\n",
              "      <td>0</td>\n",
              "      <td>...</td>\n",
              "      <td>0</td>\n",
              "      <td>0</td>\n",
              "      <td>0</td>\n",
              "      <td>0</td>\n",
              "      <td>0</td>\n",
              "      <td>0</td>\n",
              "      <td>0</td>\n",
              "      <td>1</td>\n",
              "      <td>0</td>\n",
              "      <td>0</td>\n",
              "    </tr>\n",
              "    <tr>\n",
              "      <th>2</th>\n",
              "      <td>3</td>\n",
              "      <td>Four Rooms (1995)</td>\n",
              "      <td>01-Jan-1995</td>\n",
              "      <td>NaN</td>\n",
              "      <td>http://us.imdb.com/M/title-exact?Four%20Rooms%...</td>\n",
              "      <td>0</td>\n",
              "      <td>0</td>\n",
              "      <td>0</td>\n",
              "      <td>0</td>\n",
              "      <td>0</td>\n",
              "      <td>...</td>\n",
              "      <td>0</td>\n",
              "      <td>0</td>\n",
              "      <td>0</td>\n",
              "      <td>0</td>\n",
              "      <td>0</td>\n",
              "      <td>0</td>\n",
              "      <td>0</td>\n",
              "      <td>1</td>\n",
              "      <td>0</td>\n",
              "      <td>0</td>\n",
              "    </tr>\n",
              "  </tbody>\n",
              "</table>\n",
              "<p>3 rows × 24 columns</p>\n",
              "</div>"
            ],
            "text/plain": [
              "   movie id        movie title release date  video release date  \\\n",
              "0         1   Toy Story (1995)  01-Jan-1995                 NaN   \n",
              "1         2   GoldenEye (1995)  01-Jan-1995                 NaN   \n",
              "2         3  Four Rooms (1995)  01-Jan-1995                 NaN   \n",
              "\n",
              "                                            IMDb URL  unknown  Action  \\\n",
              "0  http://us.imdb.com/M/title-exact?Toy%20Story%2...        0       0   \n",
              "1  http://us.imdb.com/M/title-exact?GoldenEye%20(...        0       1   \n",
              "2  http://us.imdb.com/M/title-exact?Four%20Rooms%...        0       0   \n",
              "\n",
              "   Adventure  Animation  Children's   ...     Fantasy  Film-Noir  Horror  \\\n",
              "0          0          1           1   ...           0          0       0   \n",
              "1          1          0           0   ...           0          0       0   \n",
              "2          0          0           0   ...           0          0       0   \n",
              "\n",
              "   Musical  Mystery  Romance  Sci-Fi  Thriller  War  Western  \n",
              "0        0        0        0       0         0    0        0  \n",
              "1        0        0        0       0         1    0        0  \n",
              "2        0        0        0       0         1    0        0  \n",
              "\n",
              "[3 rows x 24 columns]"
            ]
          },
          "metadata": {
            "tags": []
          },
          "execution_count": 25
        }
      ]
    },
    {
      "cell_type": "markdown",
      "metadata": {
        "id": "GJIQp5SRubj-",
        "colab_type": "text"
      },
      "source": [
        "Do item profile được sử dụng để làm dữ liệu mô tả item trong vector không gian n-chiều, nên cần chuyển dữ liệu về dạng ma trận của numpy để tiện xử lý khi huấn luyện mô hình. Đồng thời chúng ta chỉ cần lấy 19 trường sau cùng của dataframe `items` mà thôi."
      ]
    },
    {
      "cell_type": "code",
      "metadata": {
        "id": "DoEFDFWdubj-",
        "colab_type": "code",
        "outputId": "e92b1f30-d51b-41b2-a704-00ebd0b4668a",
        "colab": {
          "base_uri": "https://localhost:8080/",
          "height": 73
        }
      },
      "source": [
        "# Chi lay cac gia tri nhij phan o 19 cot cuoi moi hang\n",
        "I0 = items.as_matrix() #chuyển thành ma trận\n",
        "I_initial_extraction = I0[:, -19:] #lấy ra riêng 19 cột cuối cùng của ma trận"
      ],
      "execution_count": 0,
      "outputs": [
        {
          "output_type": "stream",
          "text": [
            "/usr/local/lib/python3.6/dist-packages/ipykernel_launcher.py:1: FutureWarning: Method .as_matrix will be removed in a future version. Use .values instead.\n",
            "  \"\"\"Entry point for launching an IPython kernel.\n"
          ],
          "name": "stderr"
        }
      ]
    },
    {
      "cell_type": "markdown",
      "metadata": {
        "id": "Ry0k0loUubkD",
        "colab_type": "text"
      },
      "source": [
        "### 3.2 Feature engineering"
      ]
    },
    {
      "cell_type": "markdown",
      "metadata": {
        "id": "W5G1rORdubkE",
        "colab_type": "text"
      },
      "source": [
        "Đến đây chúng ta đã lấy đươc các tập dữ liệu về user $ U $ (`users`), về items $ I $ (`I_inital_extraction`) và về rating `rate_train`, `rate_test`. Do dữ liệu về item có giá trị nhị phân nên ta áp dụng công thức tf-idf để chuyển đổi giá trị của các vector (feature engineering). \n",
        "\n",
        "Để thuận tiện với cách mô tả toán thông thường ta đặt tên cho tập dữ liệu sau khi thực hiện feature engineering là `X` tuy nhiên ta vẫn ngầm hiểu rằng X chính là tập dữ liệu mô tả các items."
      ]
    },
    {
      "cell_type": "code",
      "metadata": {
        "id": "SkSdlNChubkF",
        "colab_type": "code",
        "colab": {}
      },
      "source": [
        "from sklearn.feature_extraction.text import TfidfTransformer\n",
        "\n",
        "transformer = TfidfTransformer(smooth_idf=True, norm ='l2')\n",
        "X = transformer.fit_transform(I_initial_extraction.tolist()).toarray()"
      ],
      "execution_count": 0,
      "outputs": []
    },
    {
      "cell_type": "code",
      "metadata": {
        "id": "-A9cxgygubkI",
        "colab_type": "code",
        "outputId": "cd82ff22-1096-419c-c03e-449614406f11",
        "colab": {
          "base_uri": "https://localhost:8080/",
          "height": 233
        }
      },
      "source": [
        "#Hiển thị 3 dòng đầu tiên của X\n",
        "X[:3, :]"
      ],
      "execution_count": 0,
      "outputs": [
        {
          "output_type": "execute_result",
          "data": {
            "text/plain": [
              "array([[0.        , 0.        , 0.        , 0.74066017, 0.57387209,\n",
              "        0.34941857, 0.        , 0.        , 0.        , 0.        ,\n",
              "        0.        , 0.        , 0.        , 0.        , 0.        ,\n",
              "        0.        , 0.        , 0.        , 0.        ],\n",
              "       [0.        , 0.53676706, 0.65097024, 0.        , 0.        ,\n",
              "        0.        , 0.        , 0.        , 0.        , 0.        ,\n",
              "        0.        , 0.        , 0.        , 0.        , 0.        ,\n",
              "        0.        , 0.53676706, 0.        , 0.        ],\n",
              "       [0.        , 0.        , 0.        , 0.        , 0.        ,\n",
              "        0.        , 0.        , 0.        , 0.        , 0.        ,\n",
              "        0.        , 0.        , 0.        , 0.        , 0.        ,\n",
              "        0.        , 1.        , 0.        , 0.        ]])"
            ]
          },
          "metadata": {
            "tags": []
          },
          "execution_count": 28
        }
      ]
    },
    {
      "cell_type": "markdown",
      "metadata": {
        "id": "yieKSrI1ubkN",
        "colab_type": "text"
      },
      "source": [
        "## 4. Xây dựng mô hình hồi quy cho một user "
      ]
    },
    {
      "cell_type": "markdown",
      "metadata": {
        "id": "8B6UHR8JubkO",
        "colab_type": "text"
      },
      "source": [
        "Để xây dựng mô hình hồi quy mô hình hóa hành vi của một user, cần:\n",
        "    * Lấy ra dữ liệu về id của các bộ phim mà user đó đã đánh giá và trọng số đánh giá tương ứng (score)\n",
        "    * Lấy ra mô tả về các item mà user đó đã đánh giá\n",
        "    * Xây dựng và huấn luyện mô hình dựa trên các dữ liệu thu được.\n",
        "    * Đánh giá mô hình với tập dữ liệu test."
      ]
    },
    {
      "cell_type": "markdown",
      "metadata": {
        "id": "4hcPs5fBubkQ",
        "colab_type": "text"
      },
      "source": [
        "### 4.1 Lấy id và rating score của các item "
      ]
    },
    {
      "cell_type": "code",
      "metadata": {
        "id": "Z8RRLMElubkS",
        "colab_type": "code",
        "colab": {}
      },
      "source": [
        "#Xây dựng hàm lấy item id và score của user k trong tập dữ liệu rating (có thể là train hoặc test)\n",
        "def get_itemID_score_of_user(rate_matrix, userID):\n",
        "    #Lấy cột đầu tiên của rate_matrix là cột chứa thông tin userID\n",
        "    all_user_ids = rate_matrix[:,0]\n",
        "    #Lọc ra những index có id = userID - lọc ra index những hàng do userID có rate\n",
        "    # và chuyển kết quả tìm kiếm thành list (sử dụng cú pháp [0]) (do mặc định là mảng 2 chiều)     \n",
        "    indices = np.where(all_user_ids == userID)[0]\n",
        "    #Lấy về các itemIDs ở cột thứ 2 của rate_matrix; và trừ cho 1 do stt trong python bắt đầu từ 0\n",
        "    itemIDs = rate_matrix[indices, 1] - 1\n",
        "    #Lấy về các rating scores tương ứng ở cột thứ 3 và chuyển thành list\n",
        "    scores = rate_matrix[indices, 2]\n",
        "    return (itemIDs, scores)"
      ],
      "execution_count": 0,
      "outputs": []
    },
    {
      "cell_type": "markdown",
      "metadata": {
        "id": "IdNVRN5mubkV",
        "colab_type": "text"
      },
      "source": [
        "### 4.2 Huấn luyện mô hình hồi quy"
      ]
    },
    {
      "cell_type": "code",
      "metadata": {
        "id": "rYWQ2wGtubkX",
        "colab_type": "code",
        "colab": {}
      },
      "source": [
        "# Lấy dữ liệu itemIDs và scores của user có id = 100\n",
        "itemIDs, scores = get_itemID_score_of_user(rate_train, 100)\n",
        "#Xây dựng tập dữ liệu train\n",
        "X_train = X[itemIDs,:]\n",
        "y_train = scores"
      ],
      "execution_count": 0,
      "outputs": []
    },
    {
      "cell_type": "code",
      "metadata": {
        "id": "3i5XmnmXubkc",
        "colab_type": "code",
        "outputId": "cc894a81-76f8-4c03-c6a8-8150341d21a3",
        "colab": {
          "base_uri": "https://localhost:8080/",
          "height": 107
        }
      },
      "source": [
        "#Các thư viện cần thiết\n",
        "from sklearn.linear_model import Ridge\n",
        "\n",
        "#Khởi tạo model\n",
        "model = Ridge(alpha=0.01, fit_intercept  = True)\n",
        "#huấn luyện mô hình\n",
        "model.fit(X_train, y_train)\n",
        "#Các thông số tìm được sau quá trình học\n",
        "print('Hệ số : ', model.coef_)\n",
        "print('Bias: ', model.intercept_)"
      ],
      "execution_count": 0,
      "outputs": [
        {
          "output_type": "stream",
          "text": [
            "Hệ số :  [ 0.          1.06478244 -0.69131749  0.          0.13401853  1.27710147\n",
            "  1.56824185  0.          1.4301213   0.19615854  1.60351936  0.23210467\n",
            "  1.16683174  1.10712902  1.37676259  1.44483465  1.61476508  1.40803558\n",
            "  0.        ]\n",
            "Bias:  1.3579319469184703\n"
          ],
          "name": "stdout"
        }
      ]
    },
    {
      "cell_type": "markdown",
      "metadata": {
        "id": "-mv-Eid3ubkg",
        "colab_type": "text"
      },
      "source": [
        "### 4.3 Đánh giá mô hình"
      ]
    },
    {
      "cell_type": "code",
      "metadata": {
        "id": "PxBbzhNVubkg",
        "colab_type": "code",
        "outputId": "7d055b4b-998c-4d3f-ff46-ebfc8aaaf3e0",
        "colab": {
          "base_uri": "https://localhost:8080/",
          "height": 35
        }
      },
      "source": [
        "#Lấy dữ liệu test\n",
        "itemIDs, y_test = get_itemID_score_of_user(rate_test, 100)\n",
        "X_test = X[itemIDs, :]\n",
        "model.score(X_test, y_test)"
      ],
      "execution_count": 0,
      "outputs": [
        {
          "output_type": "execute_result",
          "data": {
            "text/plain": [
              "0.12051951522850424"
            ]
          },
          "metadata": {
            "tags": []
          },
          "execution_count": 32
        }
      ]
    },
    {
      "cell_type": "code",
      "metadata": {
        "id": "g8brbAOKubkj",
        "colab_type": "code",
        "outputId": "37bdea20-5c24-4115-caba-58dcbae48c77",
        "colab": {
          "base_uri": "https://localhost:8080/",
          "height": 35
        }
      },
      "source": [
        "from sklearn.model_selection import cross_val_score\n",
        "\n",
        "#Đánh giá theo chỉ số r2\n",
        "cross_val_score(model, X_test, y_test, cv = 3, scoring='r2')"
      ],
      "execution_count": 0,
      "outputs": [
        {
          "output_type": "execute_result",
          "data": {
            "text/plain": [
              "array([-0.68726621,  0.48956706, -0.23690275])"
            ]
          },
          "metadata": {
            "tags": []
          },
          "execution_count": 33
        }
      ]
    },
    {
      "cell_type": "code",
      "metadata": {
        "id": "wCZr9U79ubko",
        "colab_type": "code",
        "outputId": "5862799c-0ba5-4660-9707-54b83a71bea7",
        "colab": {
          "base_uri": "https://localhost:8080/",
          "height": 35
        }
      },
      "source": [
        "#Đánh giá theo chỉ số MAE\n",
        "cross_val_score(model, X_test, y_test, cv = 3, scoring='neg_median_absolute_error')"
      ],
      "execution_count": 0,
      "outputs": [
        {
          "output_type": "execute_result",
          "data": {
            "text/plain": [
              "array([-1.06308401, -0.99073784, -0.50521271])"
            ]
          },
          "metadata": {
            "tags": []
          },
          "execution_count": 34
        }
      ]
    },
    {
      "cell_type": "code",
      "metadata": {
        "id": "waTApMMmubkr",
        "colab_type": "code",
        "outputId": "0bcca761-108a-4d44-b4d7-a661530613ce",
        "colab": {
          "base_uri": "https://localhost:8080/",
          "height": 35
        }
      },
      "source": [
        "#Đánh giá theo chỉ số MSE\n",
        "cross_val_score(model, X_test, y_test, cv = 3, scoring='neg_mean_squared_error')"
      ],
      "execution_count": 0,
      "outputs": [
        {
          "output_type": "execute_result",
          "data": {
            "text/plain": [
              "array([-1.15999552, -0.79400679, -1.09946911])"
            ]
          },
          "metadata": {
            "tags": []
          },
          "execution_count": 35
        }
      ]
    },
    {
      "cell_type": "code",
      "metadata": {
        "id": "aaiLG4qDubkv",
        "colab_type": "code",
        "outputId": "4846fc13-1c8d-4fa4-96eb-ca3c38b20535",
        "colab": {
          "base_uri": "https://localhost:8080/",
          "height": 89
        }
      },
      "source": [
        "#Kết quả dự đoán so với kết quả thực tế\n",
        "print('Test set rated movie ids: ', itemIDs)\n",
        "print('Actual rating scores: ', y_test)\n",
        "print('Predicted scores: ', model.predict(X_test))"
      ],
      "execution_count": 0,
      "outputs": [
        {
          "output_type": "stream",
          "text": [
            "Test set rated movie ids:  [265 267 287 301 320 339 343 353 354 749]\n",
            "Actual rating scores:  [2 3 2 4 1 3 4 2 4 4]\n",
            "Predicted scores:  [1.50195071 3.28561988 2.50811905 4.22630776 2.63503341 2.78805324\n",
            " 2.78805324 3.22626107 2.66294969 2.78805324]\n"
          ],
          "name": "stdout"
        }
      ]
    },
    {
      "cell_type": "code",
      "metadata": {
        "id": "C-lFeaNpubky",
        "colab_type": "code",
        "outputId": "7226e1b0-f37d-46da-c101-2477abee88b2",
        "colab": {
          "base_uri": "https://localhost:8080/",
          "height": 35
        }
      },
      "source": [
        "#Đánh giá theo chỉ số Negative MSE\n",
        "eval_scores = cross_val_score(model, X_test, y_test, cv = 3, scoring='neg_mean_squared_error')\n",
        "print('Negative MSE = ', eval_scores.mean())"
      ],
      "execution_count": 0,
      "outputs": [
        {
          "output_type": "stream",
          "text": [
            "Negative MSE =  -1.017823808327644\n"
          ],
          "name": "stdout"
        }
      ]
    },
    {
      "cell_type": "markdown",
      "metadata": {
        "id": "ztgOlmqzubk3",
        "colab_type": "text"
      },
      "source": [
        "### 4.4 Vẽ đường validation curve\n",
        "Xét trên tập dữ liệu train (chưa ổn)\n"
      ]
    },
    {
      "cell_type": "code",
      "metadata": {
        "id": "4xvGdyt1ubk4",
        "colab_type": "code",
        "colab": {}
      },
      "source": [
        "# Lấy dữ liệu itemIDs và scores của user có id = 100\n",
        "itemIDs, y_train = get_itemID_score_of_user(rate_train, 100)\n",
        "#Xây dựng tập dữ liệu train\n",
        "X_train = X[itemIDs,:]"
      ],
      "execution_count": 0,
      "outputs": []
    },
    {
      "cell_type": "code",
      "metadata": {
        "id": "aZN7aAWoubk7",
        "colab_type": "code",
        "colab": {}
      },
      "source": [
        "#Xáo trộn thứ tự dữ liệu\n",
        "indices = np.arange(y_train.shape[0])\n",
        "np.random.shuffle(indices)\n",
        "X_train, y_train = X_train[indices, :], y_train[indices]"
      ],
      "execution_count": 0,
      "outputs": []
    },
    {
      "cell_type": "code",
      "metadata": {
        "id": "kodbI3u-ubk-",
        "colab_type": "code",
        "outputId": "99765498-362f-4695-f305-c6e0698b24dd",
        "colab": {
          "base_uri": "https://localhost:8080/",
          "height": 301
        }
      },
      "source": [
        "from sklearn.model_selection import validation_curve\n",
        "import matplotlib.pyplot as plt\n",
        "\n",
        "%matplotlib inline\n",
        "param_range = np.logspace(-7, 3, 3)\n",
        "train_scores, test_scores = validation_curve(Ridge(), X_train, y_train, \"alpha\",\n",
        "                                                param_range,\n",
        "                                                cv=5)\n",
        "\n",
        "train_scores_mean = np.mean(train_scores, axis=1)\n",
        "train_scores_std = np.std(train_scores, axis=1)\n",
        "test_scores_mean = np.mean(test_scores, axis=1)\n",
        "test_scores_std = np.std(test_scores, axis=1)\n",
        "\n",
        "plt.title(\"Validation Curve with Ridge Regression\")\n",
        "plt.xlabel(\"$item$\")\n",
        "plt.ylabel(\"Score\")\n",
        "plt.ylim(0.0, 1.1)\n",
        "lw = 2\n",
        "plt.semilogx(param_range, train_scores_mean, label=\"Training score\",\n",
        "             color=\"darkorange\", lw=lw)\n",
        "plt.fill_between(param_range, train_scores_mean - train_scores_std,\n",
        "                 train_scores_mean + train_scores_std, alpha=0.2,\n",
        "                 color=\"darkorange\", lw=lw)\n",
        "plt.semilogx(param_range, test_scores_mean, label=\"Cross-validation score\",\n",
        "             color=\"navy\", lw=lw)\n",
        "plt.fill_between(param_range, test_scores_mean - test_scores_std,\n",
        "                 test_scores_mean + test_scores_std, alpha=0.2,\n",
        "                 color=\"navy\", lw=lw)\n",
        "plt.legend(loc=\"best\")\n",
        "plt.show()"
      ],
      "execution_count": 0,
      "outputs": [
        {
          "output_type": "display_data",
          "data": {
            "image/png": "[encoded data removed]",
            "text/plain": [
              "<Figure size 432x288 with 1 Axes>"
            ]
          },
          "metadata": {
            "tags": []
          }
        }
      ]
    },
    {
      "cell_type": "markdown",
      "metadata": {
        "id": "N39uNFkFublC",
        "colab_type": "text"
      },
      "source": [
        "## 5. Xây dựng mô hình hồi quy dự đoán cho tất cả các user"
      ]
    },
    {
      "cell_type": "code",
      "metadata": {
        "id": "CvWqCTl_ublC",
        "colab_type": "code",
        "outputId": "2364f8b2-de23-4d25-f6a8-227aa94ea8fb",
        "colab": {
          "base_uri": "https://localhost:8080/",
          "height": 35
        }
      },
      "source": [
        "print(n_users)"
      ],
      "execution_count": 0,
      "outputs": [
        {
          "output_type": "stream",
          "text": [
            "943\n"
          ],
          "name": "stdout"
        }
      ]
    },
    {
      "cell_type": "code",
      "metadata": {
        "id": "LQj8Ep-UublF",
        "colab_type": "code",
        "outputId": "d5725f00-ad50-4f70-a023-50044f9fb3a7",
        "colab": {
          "base_uri": "https://localhost:8080/",
          "height": 35
        }
      },
      "source": [
        "#bien luu gia tri nmse chung cho tat ca cac model\n",
        "nmse = []\n",
        "\n",
        "for userID in range(n_users):\n",
        "    # Lấy dữ liệu itemIDs và scores của user \n",
        "    itemIDs, y_train = get_itemID_score_of_user(rate_train, userID + 1)\n",
        "    #Xây dựng tập dữ liệu train\n",
        "    X_train = X[itemIDs,:]\n",
        "    #Khởi tạo model\n",
        "    model = Ridge(alpha=0.01, fit_intercept  = True)\n",
        "    #huấn luyện mô hình\n",
        "    model.fit(X_train, y_train)\n",
        "    #Lấy dữ liệu test\n",
        "    itemIDs, y_test = get_itemID_score_of_user(rate_test, 100)\n",
        "    X_test = X[itemIDs, :]\n",
        "    #Đánh giá theo chỉ số Negative MSE\n",
        "    eval_scores = cross_val_score(model, X_test, y_test, cv = 3, scoring='neg_mean_squared_error')\n",
        "    nmse.append(eval_scores.mean())\n",
        "\n",
        "print('NMSE for testing: ', np.mean(nmse))"
      ],
      "execution_count": 0,
      "outputs": [
        {
          "output_type": "stream",
          "text": [
            "NMSE for testing:  -1.0178238083276445\n"
          ],
          "name": "stdout"
        }
      ]
    },
    {
      "cell_type": "code",
      "metadata": {
        "id": "a8BR-q3nublK",
        "colab_type": "code",
        "colab": {}
      },
      "source": [
        ""
      ],
      "execution_count": 0,
      "outputs": []
    }
  ]
}