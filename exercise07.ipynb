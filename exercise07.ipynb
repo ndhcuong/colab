{
  "nbformat": 4,
  "nbformat_minor": 0,
  "metadata": {
    "colab": {
      "name": "exercise07.ipynb",
      "provenance": [],
      "collapsed_sections": [],
      "include_colab_link": true
    },
    "kernelspec": {
      "name": "python3",
      "display_name": "Python 3"
    }
  },
  "cells": [
    {
      "cell_type": "markdown",
      "metadata": {
        "id": "view-in-github",
        "colab_type": "text"
      },
      "source": [
        "<a href=\"https://colab.research.google.com/github/ndhcuong/colab/blob/master/exercise07.ipynb\" target=\"_parent\"><img src=\"https://colab.research.google.com/assets/colab-badge.svg\" alt=\"Open In Colab\"/></a>"
      ]
    },
    {
      "cell_type": "markdown",
      "metadata": {
        "id": "3WDLjaA4BRfZ",
        "colab_type": "text"
      },
      "source": [
        "Exercise 7: A babysitter charges \\$2.50 an hour until 9:00 PM when the rate drops to \\$1.75 an hour (the children are in bed). Write a program that accepts a starting time and ending time in hours and minutes and calculates the total babysitting bill. You may assume that the starting and ending times are in a single 24-hour period. Partial hours should be appropriately prorated."
      ]
    },
    {
      "cell_type": "code",
      "metadata": {
        "id": "AHBNU6lSANnL",
        "colab_type": "code",
        "colab": {
          "base_uri": "https://localhost:8080/",
          "height": 87
        },
        "outputId": "b43fb26b-6d8b-49e1-f352-df17b93c3d22"
      },
      "source": [
        "start_hour = int(input(\"Starting hour: \"))\n",
        "start_minute = int(input(\"Starting minute: \"))\n",
        "end_hour = int(input(\"Ending hour: \"))\n",
        "end_minute = int(input(\"Ending minute: \"))"
      ],
      "execution_count": 1,
      "outputs": [
        {
          "output_type": "stream",
          "text": [
            "Starting hour: 3\n",
            "Starting minute: 15\n",
            "Ending hour: 15\n",
            "Ending minute: 10\n"
          ],
          "name": "stdout"
        }
      ]
    },
    {
      "cell_type": "code",
      "metadata": {
        "id": "4A-tRajBBYXT",
        "colab_type": "code",
        "colab": {
          "base_uri": "https://localhost:8080/",
          "height": 35
        },
        "outputId": "7922dfe7-a8db-4095-f854-75ed4506cdd3"
      },
      "source": [
        "from datetime import timedelta\n",
        "if end_hour < 21:\n",
        "  duration = timedelta(hours = end_hour, minutes = end_minute) - timedelta(hours = start_hour, minutes = start_minute)\n",
        "  total_minutes = duration.seconds//60\n",
        "  working_hour, working_minute = divmod(total_minutes, 60)\n",
        "  payment = (working_hour + float(working_minute)/60)*2.50\n",
        "else:\n",
        "  t_start = timedelta(hours = start_hour, minutes = start_minute)\n",
        "  t_end1 = timedelta(hours = 21, minutes = 0)\n",
        "  t_end2 = timedelta(hours = end_hour, minutes = end_minute)\n",
        "  duration1 = t_end1 - t_start\n",
        "  total1 = duration1.seconds//60\n",
        "  w1_hour, w1_minute = divmod(total1, 60)\n",
        "  payment = (w1_hour + float(w1_minute)/60)*2.50\n",
        "  duration2 = t_end2 - t_end1\n",
        "  total2 = duration2.seconds//60\n",
        "  w2_hour, w2_minute = divmod(total2, 60)\n",
        "  payment = payment + (w2_hour + float(w2_minute)/60)*1.75\n",
        "\n",
        "print(\"Payment: \", payment)\n"
      ],
      "execution_count": 9,
      "outputs": [
        {
          "output_type": "stream",
          "text": [
            "Payment:  29.791666666666664\n"
          ],
          "name": "stdout"
        }
      ]
    }
  ]
}