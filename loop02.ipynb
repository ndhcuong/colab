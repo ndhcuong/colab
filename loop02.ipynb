{
  "nbformat": 4,
  "nbformat_minor": 0,
  "metadata": {
    "colab": {
      "name": "loop02.ipynb",
      "provenance": [],
      "collapsed_sections": [],
      "include_colab_link": true
    },
    "kernelspec": {
      "name": "python3",
      "display_name": "Python 3"
    }
  },
  "cells": [
    {
      "cell_type": "markdown",
      "metadata": {
        "id": "view-in-github",
        "colab_type": "text"
      },
      "source": [
        "<a href=\"https://colab.research.google.com/github/ndhcuong/colab/blob/master/loop02.ipynb\" target=\"_parent\"><img src=\"https://colab.research.google.com/assets/colab-badge.svg\" alt=\"Open In Colab\"/></a>"
      ]
    },
    {
      "cell_type": "markdown",
      "metadata": {
        "id": "dGMPnGUcHfn-",
        "colab_type": "text"
      },
      "source": [
        "Exercise 2: The National Weather Service computes the windchill index using the following formula:\n",
        "$35.74 + 0.6 215T - 35.75(V^{0.16}) +0.4 275T(V^{0.16})$\n",
        "Where T is the temperature in degrees Fahrenheit, and V is the wind speed\n",
        "in miles per hour.\n",
        "Write a program that prints a nicely formatted table of windchill values. Rows should represent wind speed for 0 to 50 in 5-mph increments,\n",
        "and the columns represent temperatures from -20 to +60 in 10-degree increments. Note: The formula only applies for wind speeds in excess of 3\n",
        "miles per hour."
      ]
    },
    {
      "cell_type": "code",
      "metadata": {
        "id": "LFwxFxaaHYIz",
        "colab_type": "code",
        "colab": {
          "base_uri": "https://localhost:8080/",
          "height": 208
        },
        "outputId": "85131a86-f75f-4cc3-cbe4-f61685e88d39"
      },
      "source": [
        "#solution 1\n",
        "for wind in range(0, 55, 5):\n",
        "  message = \"\"\"\"\"\"\n",
        "  for temperature in range(-20, 70, 10):\n",
        "    windchill = 35.74 + 0.621*temperature - 35.75*wind**0.16 + 0.4275*temperature*wind**0.16\n",
        "    message = message + \"{:5.2f}\".format(windchill) + \"\\t\"\n",
        "  print(message)\n"
      ],
      "execution_count": 5,
      "outputs": [
        {
          "output_type": "stream",
          "text": [
            "23.32\t29.53\t35.74\t41.95\t48.16\t54.37\t60.58\t66.79\t73.00\t\n",
            "-33.99\t-22.25\t-10.51\t 1.23\t12.97\t24.71\t36.45\t48.19\t59.93\t\n",
            "-40.71\t-28.32\t-15.93\t-3.55\t 8.84\t21.23\t33.62\t46.01\t58.40\t\n",
            "-45.00\t-32.20\t-19.40\t-6.59\t 6.21\t19.01\t31.82\t44.62\t57.42\t\n",
            "-48.22\t-35.11\t-22.00\t-8.88\t 4.23\t17.35\t30.46\t43.57\t56.69\t\n",
            "-50.82\t-37.46\t-24.09\t-10.73\t 2.64\t16.00\t29.37\t42.73\t56.10\t\n",
            "-53.02\t-39.44\t-25.86\t-12.29\t 1.29\t14.87\t28.44\t42.02\t55.60\t\n",
            "-54.92\t-41.16\t-27.40\t-13.64\t 0.12\t13.88\t27.64\t41.40\t55.16\t\n",
            "-56.61\t-42.69\t-28.77\t-14.84\t-0.92\t13.00\t26.93\t40.85\t54.78\t\n",
            "-58.13\t-44.06\t-29.99\t-15.92\t-1.85\t12.22\t26.29\t40.36\t54.43\t\n",
            "-59.52\t-45.32\t-31.11\t-16.91\t-2.70\t11.50\t25.71\t39.91\t54.11\t\n"
          ],
          "name": "stdout"
        }
      ]
    },
    {
      "cell_type": "code",
      "metadata": {
        "id": "-RG4Fs_xHyV5",
        "colab_type": "code",
        "colab": {}
      },
      "source": [
        "\n"
      ],
      "execution_count": 0,
      "outputs": []
    }
  ]
}