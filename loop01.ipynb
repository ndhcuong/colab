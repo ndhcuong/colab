{
  "nbformat": 4,
  "nbformat_minor": 0,
  "metadata": {
    "colab": {
      "name": "loop01.ipynb",
      "provenance": [],
      "collapsed_sections": [],
      "include_colab_link": true
    },
    "kernelspec": {
      "name": "python3",
      "display_name": "Python 3"
    }
  },
  "cells": [
    {
      "cell_type": "markdown",
      "metadata": {
        "id": "view-in-github",
        "colab_type": "text"
      },
      "source": [
        "<a href=\"https://colab.research.google.com/github/ndhcuong/colab/blob/master/loop01.ipynb\" target=\"_parent\"><img src=\"https://colab.research.google.com/assets/colab-badge.svg\" alt=\"Open In Colab\"/></a>"
      ]
    },
    {
      "cell_type": "markdown",
      "metadata": {
        "id": "BGveR-xGEuyp",
        "colab_type": "text"
      },
      "source": [
        "Exercise 1: The Fibonacci sequence starts 1, 1, 2, 3, 5, 8, . . . Each number in the sequence (after the first two) is the sum of the previous two. Write a program that computes and outputs the nth Fibonacci number, where n is a value entered by the user.\n",
        "$ F_n = F_{n-1} + F_{n-2} $, whereas $ F_0 = F_1 = 1 $"
      ]
    },
    {
      "cell_type": "code",
      "metadata": {
        "id": "TOh4X4hREqM9",
        "colab_type": "code",
        "colab": {
          "base_uri": "https://localhost:8080/",
          "height": 52
        },
        "outputId": "211e4158-5275-4ec3-f5bf-dfc996ae33d9"
      },
      "source": [
        "n = int(input(\"Calculate the nth of Fibobacci sequence: \"))\n",
        "if n < 0:\n",
        "  message = \"Can't compute\"\n",
        "elif n == 0 or n == 1:\n",
        "  result = 1;\n",
        "  message = \"Result: \" + str(result)\n",
        "else:\n",
        "  f1 = 1\n",
        "  f2 = 1\n",
        "  for i in range(2, n+1):\n",
        "    result = f1 + f2\n",
        "    f1 = f2\n",
        "    f2 = result\n",
        "  message = \"Result: \" + str(result) \n",
        "print(message)"
      ],
      "execution_count": 7,
      "outputs": [
        {
          "output_type": "stream",
          "text": [
            "Calculate the nth of Fibobacci sequence: 5\n",
            "Result: 8\n"
          ],
          "name": "stdout"
        }
      ]
    }
  ]
}