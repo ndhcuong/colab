{
  "nbformat": 4,
  "nbformat_minor": 0,
  "metadata": {
    "colab": {
      "name": "exercise6.ipynb",
      "provenance": [],
      "collapsed_sections": [],
      "include_colab_link": true
    },
    "kernelspec": {
      "name": "python3",
      "display_name": "Python 3"
    }
  },
  "cells": [
    {
      "cell_type": "markdown",
      "metadata": {
        "id": "view-in-github",
        "colab_type": "text"
      },
      "source": [
        "<a href=\"https://colab.research.google.com/github/ndhcuong/colab/blob/master/exercise6.ipynb\" target=\"_parent\"><img src=\"https://colab.research.google.com/assets/colab-badge.svg\" alt=\"Open In Colab\"/></a>"
      ]
    },
    {
      "cell_type": "markdown",
      "metadata": {
        "id": "m6l5jZPC8RcP",
        "colab_type": "text"
      },
      "source": [
        "Exercise 6: The speeding ticket fine policy in Podunksville is \\$50 plus \\$5 for each mph over the limit plus a penalty of \\$200 for any speed over 90 mph. Write a program that accepts a speed limit and a clocked speed and either prints a message indicating the speed was legal or prints the amount of the fine, if the speed is illegal."
      ]
    },
    {
      "cell_type": "code",
      "metadata": {
        "id": "j-n03TUC7-6j",
        "colab_type": "code",
        "colab": {
          "base_uri": "https://localhost:8080/",
          "height": 52
        },
        "outputId": "c732d339-eb5c-48fc-c83d-46768ef4a1a0"
      },
      "source": [
        "#step 1: get input\n",
        "speed_limit = float(input(\"Speed limit: \"))\n",
        "clocked_speed = float(input(\"Clocked speed: \"))"
      ],
      "execution_count": 1,
      "outputs": [
        {
          "output_type": "stream",
          "text": [
            "Speed limit: 75\n",
            "Clocked speed: 89\n"
          ],
          "name": "stdout"
        }
      ]
    },
    {
      "cell_type": "code",
      "metadata": {
        "id": "4djkP4Hi8Vwq",
        "colab_type": "code",
        "colab": {
          "base_uri": "https://localhost:8080/",
          "height": 35
        },
        "outputId": "4938444f-93f2-48ff-b057-d3d7e4e6d711"
      },
      "source": [
        "#step 2: \n",
        "if clocked_speed <= speed_limit:\n",
        "  message = \"The speed is legal\"\n",
        "else:\n",
        "  fine = (clocked_speed - speed_limit)*5 + 50\n",
        "  if clocked_speed > 90:\n",
        "    fine = fine + 200\n",
        "  message = \"The speed is illegal and you are fined \" + str(fine)\n",
        "print(message)"
      ],
      "execution_count": 2,
      "outputs": [
        {
          "output_type": "stream",
          "text": [
            "The speed is illegal and you are fined 120.0\n"
          ],
          "name": "stdout"
        }
      ]
    }
  ]
}