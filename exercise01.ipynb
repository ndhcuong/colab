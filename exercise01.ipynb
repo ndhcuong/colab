{
  "nbformat": 4,
  "nbformat_minor": 0,
  "metadata": {
    "colab": {
      "name": "exercise01.ipynb",
      "provenance": [],
      "include_colab_link": true
    },
    "kernelspec": {
      "name": "python3",
      "display_name": "Python 3"
    }
  },
  "cells": [
    {
      "cell_type": "markdown",
      "metadata": {
        "id": "view-in-github",
        "colab_type": "text"
      },
      "source": [
        "<a href=\"https://colab.research.google.com/github/ndhcuong/colab/blob/master/exercise01.ipynb\" target=\"_parent\"><img src=\"https://colab.research.google.com/assets/colab-badge.svg\" alt=\"Open In Colab\"/></a>"
      ]
    },
    {
      "cell_type": "markdown",
      "metadata": {
        "id": "krOcMvWFvm7S",
        "colab_type": "text"
      },
      "source": [
        "Many companies pay time-and-a-half for any hours worked above 40 in a\n",
        "given week. Write a program to input the number of hours worked and\n",
        "the hourly rate and calculate the total wages for the week."
      ]
    },
    {
      "cell_type": "code",
      "metadata": {
        "id": "vBvhism2vlnw",
        "colab_type": "code",
        "colab": {
          "base_uri": "https://localhost:8080/",
          "height": 52
        },
        "outputId": "128c0ac4-ed41-48ef-9c4f-65a8e42cff3a"
      },
      "source": [
        "#Step 1: input\n",
        "working_hours = float(input(\"Number of hours worked: \"))\n",
        "hourly_rate = float(input(\"Hourly rate: \"))"
      ],
      "execution_count": 1,
      "outputs": [
        {
          "output_type": "stream",
          "text": [
            "Number of hours worked: 43\n",
            "Hourly rate: 15.6\n"
          ],
          "name": "stdout"
        }
      ]
    },
    {
      "cell_type": "code",
      "metadata": {
        "id": "IkIA536svpm3",
        "colab_type": "code",
        "colab": {
          "base_uri": "https://localhost:8080/",
          "height": 35
        },
        "outputId": "4ac9287f-1f0c-4b8b-c2cb-a7c09323025d"
      },
      "source": [
        "#Step 2: calculate the total rates\n",
        "if working_hours > 40:\n",
        "  total_wages = 40*hourly_rate + (working_hours - 40)*(hourly_rate + 0.5)\n",
        "else:\n",
        "  total_wages = 40*hourly_rate\n",
        "print(\"Total wages: \", total_wages)"
      ],
      "execution_count": 2,
      "outputs": [
        {
          "output_type": "stream",
          "text": [
            "Total wages:  672.3\n"
          ],
          "name": "stdout"
        }
      ]
    }
  ]
}