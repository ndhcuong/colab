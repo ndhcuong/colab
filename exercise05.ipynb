{
  "nbformat": 4,
  "nbformat_minor": 0,
  "metadata": {
    "colab": {
      "name": "exercise05.ipynb",
      "provenance": [],
      "collapsed_sections": [],
      "include_colab_link": true
    },
    "kernelspec": {
      "name": "python3",
      "display_name": "Python 3"
    }
  },
  "cells": [
    {
      "cell_type": "markdown",
      "metadata": {
        "id": "view-in-github",
        "colab_type": "text"
      },
      "source": [
        "<a href=\"https://colab.research.google.com/github/ndhcuong/colab/blob/master/exercise05.ipynb\" target=\"_parent\"><img src=\"https://colab.research.google.com/assets/colab-badge.svg\" alt=\"Open In Colab\"/></a>"
      ]
    },
    {
      "cell_type": "markdown",
      "metadata": {
        "id": "Yni4G-ZR5Wg3",
        "colab_type": "text"
      },
      "source": [
        "Exercise 5: The body mass index (BMI) is calculated as a person's weight (in pounds)\n",
        "times 720, divided by the square of the person's height (in inches). A BMI\n",
        "in the range 19-25, inclusive, is considered healthy. Write a program that\n",
        "calculates a person's BMI and prints a message telling whether they are\n",
        "above, within, or below the healthy range."
      ]
    },
    {
      "cell_type": "code",
      "metadata": {
        "id": "piSGXfbz49YZ",
        "colab_type": "code",
        "colab": {
          "base_uri": "https://localhost:8080/",
          "height": 52
        },
        "outputId": "0965ce8c-1569-4bf0-8693-143239087c08"
      },
      "source": [
        "weight = float(input(\"Your weight: \"))\n",
        "height = float(input(\"Your height: \"))"
      ],
      "execution_count": 1,
      "outputs": [
        {
          "output_type": "stream",
          "text": [
            "Your weight: 136.687\n",
            "Your height: 66.1417\n"
          ],
          "name": "stdout"
        }
      ]
    },
    {
      "cell_type": "code",
      "metadata": {
        "id": "aOC9EZSO6drE",
        "colab_type": "code",
        "colab": {}
      },
      "source": [
        "bmi = (weight*720)/(height**2)"
      ],
      "execution_count": 0,
      "outputs": []
    },
    {
      "cell_type": "code",
      "metadata": {
        "id": "gq5rgZTj6rbl",
        "colab_type": "code",
        "colab": {
          "base_uri": "https://localhost:8080/",
          "height": 35
        },
        "outputId": "2e4b8d41-beba-4111-f8ab-32d63042b1dc"
      },
      "source": [
        "if bmi > 25:\n",
        "  message = \"Your BMI is above the healthy range\"\n",
        "elif (bmi >= 19) and (bmi <= 25):\n",
        "  message = \"Your BMI is within the healthy range\"\n",
        "else:\n",
        "  message = \"Your BMI is below the healthy range\"\n",
        "\n",
        "print(message)"
      ],
      "execution_count": 3,
      "outputs": [
        {
          "output_type": "stream",
          "text": [
            "Your BMI is within the healthy range\n"
          ],
          "name": "stdout"
        }
      ]
    }
  ]
}