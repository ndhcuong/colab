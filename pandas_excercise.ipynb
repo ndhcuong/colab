{
  "nbformat": 4,
  "nbformat_minor": 0,
  "metadata": {
    "colab": {
      "name": "pandas-excercise.ipynb",
      "provenance": [],
      "collapsed_sections": [],
      "authorship_tag": "ABX9TyOuEeYtDJp8Y7CbSCZI4bmf",
      "include_colab_link": true
    },
    "kernelspec": {
      "name": "python3",
      "display_name": "Python 3"
    }
  },
  "cells": [
    {
      "cell_type": "markdown",
      "metadata": {
        "id": "view-in-github",
        "colab_type": "text"
      },
      "source": [
        "<a href=\"https://colab.research.google.com/github/ndhcuong/colab/blob/master/pandas_excercise.ipynb\" target=\"_parent\"><img src=\"https://colab.research.google.com/assets/colab-badge.svg\" alt=\"Open In Colab\"/></a>"
      ]
    },
    {
      "cell_type": "markdown",
      "metadata": {
        "id": "ra3msGVD7T9J",
        "colab_type": "text"
      },
      "source": [
        "# PANDAS PROGRAMMING EXCERCISE"
      ]
    },
    {
      "cell_type": "markdown",
      "metadata": {
        "id": "a_vwszzJ7ZAb",
        "colab_type": "text"
      },
      "source": [
        "**1. Import pandas to script**"
      ]
    },
    {
      "cell_type": "code",
      "metadata": {
        "id": "qmQHUjke7O1G",
        "colab_type": "code",
        "colab": {}
      },
      "source": [
        "#Your code here"
      ],
      "execution_count": 0,
      "outputs": []
    },
    {
      "cell_type": "markdown",
      "metadata": {
        "id": "74qnl1T67geS",
        "colab_type": "text"
      },
      "source": [
        "**2. Read a CSV file to memory**\n",
        "\n",
        "The TechCrunch Continental USA file is a listing of 1,460 company funding records reported by TechCrunch. This dataset is hosted at [link](http://samplecsvs.s3.amazonaws.com/TechCrunchcontinentalUSA.csv). Let read this CSV file into a data frame."
      ]
    },
    {
      "cell_type": "code",
      "metadata": {
        "id": "ltyLZ9K-7nHQ",
        "colab_type": "code",
        "colab": {}
      },
      "source": [
        "#Your code here"
      ],
      "execution_count": 0,
      "outputs": []
    },
    {
      "cell_type": "markdown",
      "metadata": {
        "id": "I87R-5XR7psB",
        "colab_type": "text"
      },
      "source": [
        "**3. Display the first 10 rows**"
      ]
    },
    {
      "cell_type": "code",
      "metadata": {
        "id": "ZvwED0YT7sZ4",
        "colab_type": "code",
        "colab": {}
      },
      "source": [
        "#Your code here"
      ],
      "execution_count": 0,
      "outputs": []
    },
    {
      "cell_type": "markdown",
      "metadata": {
        "id": "RHNUpFEt7uyB",
        "colab_type": "text"
      },
      "source": [
        "**4. Apply the MAX - MIN - AVERAGE functions to raisedAmt column**\n"
      ]
    },
    {
      "cell_type": "code",
      "metadata": {
        "id": "APaCeADb70p4",
        "colab_type": "code",
        "colab": {}
      },
      "source": [
        "#Your codde here"
      ],
      "execution_count": 0,
      "outputs": []
    },
    {
      "cell_type": "markdown",
      "metadata": {
        "id": "IiXI9Z7m7336",
        "colab_type": "text"
      },
      "source": [
        "**5. Sort the dataset according to the descending value of raisedAmt column**"
      ]
    },
    {
      "cell_type": "code",
      "metadata": {
        "id": "Yh4p3V2n76Nw",
        "colab_type": "code",
        "colab": {}
      },
      "source": [
        "#Your code here"
      ],
      "execution_count": 0,
      "outputs": []
    },
    {
      "cell_type": "markdown",
      "metadata": {
        "id": "-2PIuXQV78wq",
        "colab_type": "text"
      },
      "source": [
        "**6. Group the dataset by state column**"
      ]
    },
    {
      "cell_type": "code",
      "metadata": {
        "id": "t9RchUAr8AUB",
        "colab_type": "code",
        "colab": {}
      },
      "source": [
        "#Your code here"
      ],
      "execution_count": 0,
      "outputs": []
    },
    {
      "cell_type": "markdown",
      "metadata": {
        "id": "M7EBQM888FdC",
        "colab_type": "text"
      },
      "source": [
        "**7. Count on every column of each group**"
      ]
    },
    {
      "cell_type": "code",
      "metadata": {
        "id": "opEFYuZQ8I24",
        "colab_type": "code",
        "colab": {}
      },
      "source": [
        "#Your code here"
      ],
      "execution_count": 0,
      "outputs": []
    },
    {
      "cell_type": "markdown",
      "metadata": {
        "id": "cRFAQi8f8LLZ",
        "colab_type": "text"
      },
      "source": [
        "**8. Draw a chart using pandas**\n",
        "\n",
        "You can draw any chart that You would love to. "
      ]
    },
    {
      "cell_type": "code",
      "metadata": {
        "id": "V8cjELYA8Pyw",
        "colab_type": "code",
        "colab": {}
      },
      "source": [
        "#Your code here"
      ],
      "execution_count": 0,
      "outputs": []
    }
  ]
}