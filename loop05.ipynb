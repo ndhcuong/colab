{
  "nbformat": 4,
  "nbformat_minor": 0,
  "metadata": {
    "colab": {
      "name": "loop05.ipynb",
      "provenance": [],
      "collapsed_sections": [],
      "include_colab_link": true
    },
    "kernelspec": {
      "name": "python3",
      "display_name": "Python 3"
    }
  },
  "cells": [
    {
      "cell_type": "markdown",
      "metadata": {
        "id": "view-in-github",
        "colab_type": "text"
      },
      "source": [
        "<a href=\"https://colab.research.google.com/github/ndhcuong/colab/blob/master/loop05.ipynb\" target=\"_parent\"><img src=\"https://colab.research.google.com/assets/colab-badge.svg\" alt=\"Open In Colab\"/></a>"
      ]
    },
    {
      "cell_type": "markdown",
      "metadata": {
        "id": "bOr7SvwfXpkG",
        "colab_type": "text"
      },
      "source": [
        "Exercise 5: A positive whole number n > 2 is prime if no number between 2 and $\\sqrt{n}$ evenly divides n. Write a program that accepts a value of n as\n",
        "input and determines if the value is prime. If n is not prime, your program\n",
        "should quit as soon as it finds a value that evenly divides n."
      ]
    },
    {
      "cell_type": "code",
      "metadata": {
        "id": "XzJfq5oWYK25",
        "colab_type": "code",
        "colab": {
          "base_uri": "https://localhost:8080/",
          "height": 35
        },
        "outputId": "5fbe672c-743d-4372-8cea-df24b0834ffc"
      },
      "source": [
        "n = int(input(\"n = \"))"
      ],
      "execution_count": 8,
      "outputs": [
        {
          "output_type": "stream",
          "text": [
            "n = 7\n"
          ],
          "name": "stdout"
        }
      ]
    },
    {
      "cell_type": "code",
      "metadata": {
        "id": "jDFprTolYtBr",
        "colab_type": "code",
        "colab": {
          "base_uri": "https://localhost:8080/",
          "height": 35
        },
        "outputId": "7f86325b-ac3f-44bb-a276-fdb44a3cc276"
      },
      "source": [
        "import math\n",
        "\n",
        "if n > 2:\n",
        "  sqrt_n = int(math.sqrt(n))\n",
        "  flag = True  #means n is prime\n",
        "  i = 2\n",
        "  while i <= sqrt_n:\n",
        "    if n % i == 0:\n",
        "      flag = False #means n is not prime\n",
        "      break\n",
        "    i = i + 1\n",
        "  \n",
        "  if flag == True:\n",
        "    print(n, \" is a prime number\")\n",
        "  else:\n",
        "    print(n, \" is not a prime number\")\n",
        "else:\n",
        "  print(n, \" must be greater than 2\")"
      ],
      "execution_count": 9,
      "outputs": [
        {
          "output_type": "stream",
          "text": [
            "7  is a prime number\n"
          ],
          "name": "stdout"
        }
      ]
    }
  ]
}