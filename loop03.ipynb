{
  "nbformat": 4,
  "nbformat_minor": 0,
  "metadata": {
    "colab": {
      "name": "loop03.ipynb",
      "provenance": [],
      "collapsed_sections": [],
      "include_colab_link": true
    },
    "kernelspec": {
      "name": "python3",
      "display_name": "Python 3"
    }
  },
  "cells": [
    {
      "cell_type": "markdown",
      "metadata": {
        "id": "view-in-github",
        "colab_type": "text"
      },
      "source": [
        "<a href=\"https://colab.research.google.com/github/ndhcuong/colab/blob/master/loop03.ipynb\" target=\"_parent\"><img src=\"https://colab.research.google.com/assets/colab-badge.svg\" alt=\"Open In Colab\"/></a>"
      ]
    },
    {
      "cell_type": "markdown",
      "metadata": {
        "id": "RcI_naOGNNu2",
        "colab_type": "text"
      },
      "source": [
        "Exercise 3: Write a program that uses a while loop to determine how long it takes for an investment to double at a given interest rate. The input will be an annualized interest rate, and the output is the number of years it takes an investment to double. Note: The amount of the initial investment does not matter; you can use \\$1."
      ]
    },
    {
      "cell_type": "code",
      "metadata": {
        "id": "yLxMh-N3NWbA",
        "colab_type": "code",
        "colab": {
          "base_uri": "https://localhost:8080/",
          "height": 69
        },
        "outputId": "3c7a2787-5732-431b-ed41-ca58df44bace"
      },
      "source": [
        "interest_rate = float(input(\"Annualized interest rate: \"))\n",
        "investment = float(input(\"Investment: \"))\n",
        "year = 0\n",
        "profit = investment\n",
        "while profit < investment*2:\n",
        "  profit = (1 + interest_rate)*profit\n",
        "  year = year + 1\n",
        "\n",
        "print(\"Require \", year, \" years to double your investment\")"
      ],
      "execution_count": 1,
      "outputs": [
        {
          "output_type": "stream",
          "text": [
            "Annualized interest rate: 0.06\n",
            "Investment: 300\n",
            "Require  12  years to double your investment\n"
          ],
          "name": "stdout"
        }
      ]
    }
  ]
}