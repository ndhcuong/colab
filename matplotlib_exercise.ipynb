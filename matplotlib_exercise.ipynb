{
  "nbformat": 4,
  "nbformat_minor": 0,
  "metadata": {
    "colab": {
      "name": "matplotlib-exercise.ipynb",
      "provenance": [],
      "authorship_tag": "ABX9TyOYM9w0QOc/nIFrdOnhRQKF",
      "include_colab_link": true
    },
    "kernelspec": {
      "name": "python3",
      "display_name": "Python 3"
    }
  },
  "cells": [
    {
      "cell_type": "markdown",
      "metadata": {
        "id": "view-in-github",
        "colab_type": "text"
      },
      "source": [
        "<a href=\"https://colab.research.google.com/github/ndhcuong/colab/blob/master/matplotlib_exercise.ipynb\" target=\"_parent\"><img src=\"https://colab.research.google.com/assets/colab-badge.svg\" alt=\"Open In Colab\"/></a>"
      ]
    },
    {
      "cell_type": "markdown",
      "metadata": {
        "id": "03D98oYpHKVV",
        "colab_type": "text"
      },
      "source": [
        "**MATPLOTLIB EXERCISE**"
      ]
    },
    {
      "cell_type": "markdown",
      "metadata": {
        "id": "IusDiCnuHTqr",
        "colab_type": "text"
      },
      "source": [
        "**1. Import Matplotlib & Numpy**\n"
      ]
    },
    {
      "cell_type": "code",
      "metadata": {
        "id": "p54rPoKxCQXB",
        "colab_type": "code",
        "colab": {}
      },
      "source": [
        "#Your code here"
      ],
      "execution_count": 0,
      "outputs": []
    },
    {
      "cell_type": "markdown",
      "metadata": {
        "id": "SyPm8_tAHhM7",
        "colab_type": "text"
      },
      "source": [
        "**2. Preparing data**\n",
        "\n",
        "Randomly create a 100-by-2 matrix which has value in the range of 0 and 1000. The 1st column serves as x-values and the 2nd column serves as y-values"
      ]
    },
    {
      "cell_type": "code",
      "metadata": {
        "id": "7-udE2cPIfrw",
        "colab_type": "code",
        "colab": {}
      },
      "source": [
        "#Your code here"
      ],
      "execution_count": 0,
      "outputs": []
    },
    {
      "cell_type": "markdown",
      "metadata": {
        "id": "hiQ_ecXpJBaj",
        "colab_type": "text"
      },
      "source": [
        "**3. Draw a line chart**\n",
        "\n",
        "Use the above matrix to draw a line chart, whereas the 1st column plays the role of x-axis value and the 2nd column plays the role of y-axis value."
      ]
    },
    {
      "cell_type": "code",
      "metadata": {
        "id": "mX8I6KsVI_gp",
        "colab_type": "code",
        "colab": {}
      },
      "source": [
        "#Your code here"
      ],
      "execution_count": 0,
      "outputs": []
    },
    {
      "cell_type": "markdown",
      "metadata": {
        "id": "W2avNAFIxdNV",
        "colab_type": "text"
      },
      "source": [
        "**4. Config the axes**\n",
        "\n",
        "Use the above generated dataset, let set the name for x-axis, y-axis and the legend of your chart.\n",
        "Suggested reading: [link](https://www.tutorialspoint.com/matplotlib/matplotlib_axes_class.htm)"
      ]
    },
    {
      "cell_type": "code",
      "metadata": {
        "id": "1eblhmU6yDP8",
        "colab_type": "code",
        "colab": {}
      },
      "source": [
        "#Your code here"
      ],
      "execution_count": 0,
      "outputs": []
    },
    {
      "cell_type": "markdown",
      "metadata": {
        "id": "rU0M3v4KyyQq",
        "colab_type": "text"
      },
      "source": [
        "**5. Multiple line chart**\n",
        "\n",
        "Randomly generate a 100-by-3 matrix which has the element value in the range of \\[0, 100\\]. The 1st column plays the role of x-values and the last 2 columns play the role of y1-values and y2-values. \n",
        "\n",
        "Let draw the above two lines y1 and y2. The chart must has:\n",
        "\n",
        "\n",
        "1.   names of x-axis and y-axis\n",
        "2.   chart legend\n",
        "3.   different colors for the lines of y1 and y2\n",
        "4.   different markers for the lines of y1 and y2\n",
        "\n",
        "\n",
        "\n"
      ]
    },
    {
      "cell_type": "code",
      "metadata": {
        "id": "1T8yUN0nz9K3",
        "colab_type": "code",
        "colab": {}
      },
      "source": [
        "#Your code here"
      ],
      "execution_count": 0,
      "outputs": []
    },
    {
      "cell_type": "markdown",
      "metadata": {
        "id": "dlchgch5Iufg",
        "colab_type": "text"
      },
      "source": [
        "**6. Draw a box plot**\n",
        "\n",
        "Use the above 100-by-3 matrix to draw a box plot."
      ]
    },
    {
      "cell_type": "code",
      "metadata": {
        "id": "0kWtaijAJWKK",
        "colab_type": "code",
        "colab": {}
      },
      "source": [
        "#Your code here"
      ],
      "execution_count": 0,
      "outputs": []
    },
    {
      "cell_type": "markdown",
      "metadata": {
        "id": "RUPdmC3xJYMT",
        "colab_type": "text"
      },
      "source": [
        "**7. Draw a histogram**\n",
        "\n",
        "Suggested reading: [link](https://www.tutorialspoint.com/matplotlib/matplotlib_histogram.htm). You make your own data."
      ]
    },
    {
      "cell_type": "code",
      "metadata": {
        "id": "-7sdUTlV1cBQ",
        "colab_type": "code",
        "colab": {}
      },
      "source": [
        "#Your code here"
      ],
      "execution_count": 0,
      "outputs": []
    },
    {
      "cell_type": "markdown",
      "metadata": {
        "id": "3L6nPkfY1e6B",
        "colab_type": "text"
      },
      "source": [
        "**8. Draw a bar plot**\n",
        "\n",
        "Suggested reading: [link](https://www.tutorialspoint.com/matplotlib/matplotlib_bar_plot.htm). You make your own data."
      ]
    },
    {
      "cell_type": "code",
      "metadata": {
        "id": "qbJrlVU814sc",
        "colab_type": "code",
        "colab": {}
      },
      "source": [
        "#Your code here"
      ],
      "execution_count": 0,
      "outputs": []
    },
    {
      "cell_type": "markdown",
      "metadata": {
        "id": "tGpAYtg42Hw7",
        "colab_type": "text"
      },
      "source": [
        "**9. Draw a scatter plot**\n",
        "\n",
        "Use the above 100-by-3 matrix to draw a scatter plot. Suggested reading: [link](https://www.tutorialspoint.com/matplotlib/matplotlib_scatter_plot.htm)"
      ]
    },
    {
      "cell_type": "code",
      "metadata": {
        "id": "PEXgWXCp2gtX",
        "colab_type": "code",
        "colab": {}
      },
      "source": [
        "#Your code here"
      ],
      "execution_count": 0,
      "outputs": []
    },
    {
      "cell_type": "markdown",
      "metadata": {
        "id": "xwor-t5g2jA_",
        "colab_type": "text"
      },
      "source": [
        "**10. Subplot**\n",
        "\n",
        "Combine the plots of sections 4, 5, 6, 7, 8, and 9 into a multi-plot. Suggested reading: [link](https://www.tutorialspoint.com/matplotlib/matplotlib_subplots_function.htm)"
      ]
    },
    {
      "cell_type": "code",
      "metadata": {
        "id": "TzUpXJML3YTu",
        "colab_type": "code",
        "colab": {}
      },
      "source": [
        "#Your code here"
      ],
      "execution_count": 0,
      "outputs": []
    }
  ]
}