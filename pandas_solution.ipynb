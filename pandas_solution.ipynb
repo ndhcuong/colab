{
  "nbformat": 4,
  "nbformat_minor": 0,
  "metadata": {
    "colab": {
      "name": "pandas-solution.ipynb",
      "provenance": [],
      "authorship_tag": "ABX9TyOJDT9Bpdy2Pw+dVUQd5q52",
      "include_colab_link": true
    },
    "kernelspec": {
      "name": "python3",
      "display_name": "Python 3"
    }
  },
  "cells": [
    {
      "cell_type": "markdown",
      "metadata": {
        "id": "view-in-github",
        "colab_type": "text"
      },
      "source": [
        "<a href=\"https://colab.research.google.com/github/ndhcuong/colab/blob/master/pandas_solution.ipynb\" target=\"_parent\"><img src=\"https://colab.research.google.com/assets/colab-badge.svg\" alt=\"Open In Colab\"/></a>"
      ]
    },
    {
      "cell_type": "markdown",
      "metadata": {
        "id": "CttDcQkbsWtB",
        "colab_type": "text"
      },
      "source": [
        "# PANDAS PROGRAMMING EXCERCISE\n"
      ]
    },
    {
      "cell_type": "markdown",
      "metadata": {
        "id": "CvyHQRJfsqxW",
        "colab_type": "text"
      },
      "source": [
        "**1. Import pandas to script**"
      ]
    },
    {
      "cell_type": "code",
      "metadata": {
        "id": "pXVi57J9sjKV",
        "colab_type": "code",
        "colab": {}
      },
      "source": [
        "import pandas as pd"
      ],
      "execution_count": 0,
      "outputs": []
    },
    {
      "cell_type": "markdown",
      "metadata": {
        "id": "juVDWMZwtL8F",
        "colab_type": "text"
      },
      "source": [
        "**2. Read a CSV file to memory**\n",
        "\n",
        "The TechCrunch Continental USA file is a listing of 1,460 company funding records reported by TechCrunch. This dataset is hosted at [link](http://samplecsvs.s3.amazonaws.com/TechCrunchcontinentalUSA.csv). Let read this CSV file into a data frame."
      ]
    },
    {
      "cell_type": "code",
      "metadata": {
        "id": "KeoHWhxWtRQ0",
        "colab_type": "code",
        "colab": {}
      },
      "source": [
        "path = 'http://samplecsvs.s3.amazonaws.com/TechCrunchcontinentalUSA.csv'\n",
        "df = pd.read_csv(path)\n"
      ],
      "execution_count": 0,
      "outputs": []
    },
    {
      "cell_type": "markdown",
      "metadata": {
        "id": "ZD0LqH0Qy4DY",
        "colab_type": "text"
      },
      "source": [
        "**3. Display the first 10 rows**"
      ]
    },
    {
      "cell_type": "code",
      "metadata": {
        "id": "0eZDd3EHy8OL",
        "colab_type": "code",
        "outputId": "5ec0675a-69b7-464f-e8c7-d848e185b997",
        "colab": {
          "base_uri": "https://localhost:8080/",
          "height": 359
        }
      },
      "source": [
        "df.head(10)"
      ],
      "execution_count": 0,
      "outputs": [
        {
          "output_type": "execute_result",
          "data": {
            "text/html": [
              "<div>\n",
              "<style scoped>\n",
              "    .dataframe tbody tr th:only-of-type {\n",
              "        vertical-align: middle;\n",
              "    }\n",
              "\n",
              "    .dataframe tbody tr th {\n",
              "        vertical-align: top;\n",
              "    }\n",
              "\n",
              "    .dataframe thead th {\n",
              "        text-align: right;\n",
              "    }\n",
              "</style>\n",
              "<table border=\"1\" class=\"dataframe\">\n",
              "  <thead>\n",
              "    <tr style=\"text-align: right;\">\n",
              "      <th></th>\n",
              "      <th>permalink</th>\n",
              "      <th>company</th>\n",
              "      <th>numEmps</th>\n",
              "      <th>category</th>\n",
              "      <th>city</th>\n",
              "      <th>state</th>\n",
              "      <th>fundedDate</th>\n",
              "      <th>raisedAmt</th>\n",
              "      <th>raisedCurrency</th>\n",
              "      <th>round</th>\n",
              "    </tr>\n",
              "  </thead>\n",
              "  <tbody>\n",
              "    <tr>\n",
              "      <th>0</th>\n",
              "      <td>lifelock</td>\n",
              "      <td>LifeLock</td>\n",
              "      <td>NaN</td>\n",
              "      <td>web</td>\n",
              "      <td>Tempe</td>\n",
              "      <td>AZ</td>\n",
              "      <td>1-May-07</td>\n",
              "      <td>6850000</td>\n",
              "      <td>USD</td>\n",
              "      <td>b</td>\n",
              "    </tr>\n",
              "    <tr>\n",
              "      <th>1</th>\n",
              "      <td>lifelock</td>\n",
              "      <td>LifeLock</td>\n",
              "      <td>NaN</td>\n",
              "      <td>web</td>\n",
              "      <td>Tempe</td>\n",
              "      <td>AZ</td>\n",
              "      <td>1-Oct-06</td>\n",
              "      <td>6000000</td>\n",
              "      <td>USD</td>\n",
              "      <td>a</td>\n",
              "    </tr>\n",
              "    <tr>\n",
              "      <th>2</th>\n",
              "      <td>lifelock</td>\n",
              "      <td>LifeLock</td>\n",
              "      <td>NaN</td>\n",
              "      <td>web</td>\n",
              "      <td>Tempe</td>\n",
              "      <td>AZ</td>\n",
              "      <td>1-Jan-08</td>\n",
              "      <td>25000000</td>\n",
              "      <td>USD</td>\n",
              "      <td>c</td>\n",
              "    </tr>\n",
              "    <tr>\n",
              "      <th>3</th>\n",
              "      <td>mycityfaces</td>\n",
              "      <td>MyCityFaces</td>\n",
              "      <td>7.0</td>\n",
              "      <td>web</td>\n",
              "      <td>Scottsdale</td>\n",
              "      <td>AZ</td>\n",
              "      <td>1-Jan-08</td>\n",
              "      <td>50000</td>\n",
              "      <td>USD</td>\n",
              "      <td>seed</td>\n",
              "    </tr>\n",
              "    <tr>\n",
              "      <th>4</th>\n",
              "      <td>flypaper</td>\n",
              "      <td>Flypaper</td>\n",
              "      <td>NaN</td>\n",
              "      <td>web</td>\n",
              "      <td>Phoenix</td>\n",
              "      <td>AZ</td>\n",
              "      <td>1-Feb-08</td>\n",
              "      <td>3000000</td>\n",
              "      <td>USD</td>\n",
              "      <td>a</td>\n",
              "    </tr>\n",
              "    <tr>\n",
              "      <th>5</th>\n",
              "      <td>infusionsoft</td>\n",
              "      <td>Infusionsoft</td>\n",
              "      <td>105.0</td>\n",
              "      <td>software</td>\n",
              "      <td>Gilbert</td>\n",
              "      <td>AZ</td>\n",
              "      <td>1-Oct-07</td>\n",
              "      <td>9000000</td>\n",
              "      <td>USD</td>\n",
              "      <td>a</td>\n",
              "    </tr>\n",
              "    <tr>\n",
              "      <th>6</th>\n",
              "      <td>gauto</td>\n",
              "      <td>gAuto</td>\n",
              "      <td>4.0</td>\n",
              "      <td>web</td>\n",
              "      <td>Scottsdale</td>\n",
              "      <td>AZ</td>\n",
              "      <td>1-Jan-08</td>\n",
              "      <td>250000</td>\n",
              "      <td>USD</td>\n",
              "      <td>seed</td>\n",
              "    </tr>\n",
              "    <tr>\n",
              "      <th>7</th>\n",
              "      <td>chosenlist-com</td>\n",
              "      <td>ChosenList.com</td>\n",
              "      <td>5.0</td>\n",
              "      <td>web</td>\n",
              "      <td>Scottsdale</td>\n",
              "      <td>AZ</td>\n",
              "      <td>1-Oct-06</td>\n",
              "      <td>140000</td>\n",
              "      <td>USD</td>\n",
              "      <td>seed</td>\n",
              "    </tr>\n",
              "    <tr>\n",
              "      <th>8</th>\n",
              "      <td>chosenlist-com</td>\n",
              "      <td>ChosenList.com</td>\n",
              "      <td>5.0</td>\n",
              "      <td>web</td>\n",
              "      <td>Scottsdale</td>\n",
              "      <td>AZ</td>\n",
              "      <td>25-Jan-08</td>\n",
              "      <td>233750</td>\n",
              "      <td>USD</td>\n",
              "      <td>angel</td>\n",
              "    </tr>\n",
              "    <tr>\n",
              "      <th>9</th>\n",
              "      <td>digg</td>\n",
              "      <td>Digg</td>\n",
              "      <td>60.0</td>\n",
              "      <td>web</td>\n",
              "      <td>San Francisco</td>\n",
              "      <td>CA</td>\n",
              "      <td>1-Dec-06</td>\n",
              "      <td>8500000</td>\n",
              "      <td>USD</td>\n",
              "      <td>b</td>\n",
              "    </tr>\n",
              "  </tbody>\n",
              "</table>\n",
              "</div>"
            ],
            "text/plain": [
              "        permalink         company  numEmps  ... raisedAmt raisedCurrency  round\n",
              "0        lifelock        LifeLock      NaN  ...   6850000            USD      b\n",
              "1        lifelock        LifeLock      NaN  ...   6000000            USD      a\n",
              "2        lifelock        LifeLock      NaN  ...  25000000            USD      c\n",
              "3     mycityfaces     MyCityFaces      7.0  ...     50000            USD   seed\n",
              "4        flypaper        Flypaper      NaN  ...   3000000            USD      a\n",
              "5    infusionsoft    Infusionsoft    105.0  ...   9000000            USD      a\n",
              "6           gauto           gAuto      4.0  ...    250000            USD   seed\n",
              "7  chosenlist-com  ChosenList.com      5.0  ...    140000            USD   seed\n",
              "8  chosenlist-com  ChosenList.com      5.0  ...    233750            USD  angel\n",
              "9            digg            Digg     60.0  ...   8500000            USD      b\n",
              "\n",
              "[10 rows x 10 columns]"
            ]
          },
          "metadata": {
            "tags": []
          },
          "execution_count": 3
        }
      ]
    },
    {
      "cell_type": "markdown",
      "metadata": {
        "id": "3TGZrLbezL41",
        "colab_type": "text"
      },
      "source": [
        "**4. Apply the MAX - MIN - AVERAGE functions to raisedAmt column**\n"
      ]
    },
    {
      "cell_type": "code",
      "metadata": {
        "id": "eONW9fEFzWAj",
        "colab_type": "code",
        "outputId": "c6614194-dd6b-441d-ca35-3f8f3a5f3371",
        "colab": {
          "base_uri": "https://localhost:8080/",
          "height": 34
        }
      },
      "source": [
        "df[\"raisedAmt\"].max()"
      ],
      "execution_count": 0,
      "outputs": [
        {
          "output_type": "execute_result",
          "data": {
            "text/plain": [
              "300000000"
            ]
          },
          "metadata": {
            "tags": []
          },
          "execution_count": 4
        }
      ]
    },
    {
      "cell_type": "code",
      "metadata": {
        "id": "Xx8vwk10z65s",
        "colab_type": "code",
        "outputId": "aee4d2cf-42d9-4c07-f2a3-5c68f861f9ed",
        "colab": {
          "base_uri": "https://localhost:8080/",
          "height": 34
        }
      },
      "source": [
        "df[\"raisedAmt\"].min()"
      ],
      "execution_count": 0,
      "outputs": [
        {
          "output_type": "execute_result",
          "data": {
            "text/plain": [
              "6000"
            ]
          },
          "metadata": {
            "tags": []
          },
          "execution_count": 5
        }
      ]
    },
    {
      "cell_type": "code",
      "metadata": {
        "id": "5Ef6VHzLz_nU",
        "colab_type": "code",
        "outputId": "33100c19-2692-4adc-ff81-a8c0069da2bf",
        "colab": {
          "base_uri": "https://localhost:8080/",
          "height": 34
        }
      },
      "source": [
        "df[\"raisedAmt\"].mean()"
      ],
      "execution_count": 0,
      "outputs": [
        {
          "output_type": "execute_result",
          "data": {
            "text/plain": [
              "10131487.5"
            ]
          },
          "metadata": {
            "tags": []
          },
          "execution_count": 6
        }
      ]
    },
    {
      "cell_type": "markdown",
      "metadata": {
        "id": "d9OnZhW20WRE",
        "colab_type": "text"
      },
      "source": [
        "**5. Sort the dataset according to the descending value of raisedAmt column**"
      ]
    },
    {
      "cell_type": "code",
      "metadata": {
        "id": "pUg14Jcr0e8Q",
        "colab_type": "code",
        "outputId": "287548a0-20be-48bc-f011-2ded8be51cc2",
        "colab": {
          "base_uri": "https://localhost:8080/",
          "height": 204
        }
      },
      "source": [
        "sort_df = df.sort_values('raisedAmt', ascending=False)\n",
        "sort_df.head(5)"
      ],
      "execution_count": 0,
      "outputs": [
        {
          "output_type": "execute_result",
          "data": {
            "text/html": [
              "<div>\n",
              "<style scoped>\n",
              "    .dataframe tbody tr th:only-of-type {\n",
              "        vertical-align: middle;\n",
              "    }\n",
              "\n",
              "    .dataframe tbody tr th {\n",
              "        vertical-align: top;\n",
              "    }\n",
              "\n",
              "    .dataframe thead th {\n",
              "        text-align: right;\n",
              "    }\n",
              "</style>\n",
              "<table border=\"1\" class=\"dataframe\">\n",
              "  <thead>\n",
              "    <tr style=\"text-align: right;\">\n",
              "      <th></th>\n",
              "      <th>permalink</th>\n",
              "      <th>company</th>\n",
              "      <th>numEmps</th>\n",
              "      <th>category</th>\n",
              "      <th>city</th>\n",
              "      <th>state</th>\n",
              "      <th>fundedDate</th>\n",
              "      <th>raisedAmt</th>\n",
              "      <th>raisedCurrency</th>\n",
              "      <th>round</th>\n",
              "    </tr>\n",
              "  </thead>\n",
              "  <tbody>\n",
              "    <tr>\n",
              "      <th>1104</th>\n",
              "      <td>zenimax</td>\n",
              "      <td>ZeniMax</td>\n",
              "      <td>NaN</td>\n",
              "      <td>web</td>\n",
              "      <td>Rockville</td>\n",
              "      <td>MD</td>\n",
              "      <td>1-Oct-07</td>\n",
              "      <td>300000000</td>\n",
              "      <td>USD</td>\n",
              "      <td>a</td>\n",
              "    </tr>\n",
              "    <tr>\n",
              "      <th>14</th>\n",
              "      <td>facebook</td>\n",
              "      <td>Facebook</td>\n",
              "      <td>450.0</td>\n",
              "      <td>web</td>\n",
              "      <td>Palo Alto</td>\n",
              "      <td>CA</td>\n",
              "      <td>1-Oct-07</td>\n",
              "      <td>300000000</td>\n",
              "      <td>USD</td>\n",
              "      <td>c</td>\n",
              "    </tr>\n",
              "    <tr>\n",
              "      <th>923</th>\n",
              "      <td>kayak</td>\n",
              "      <td>Kayak</td>\n",
              "      <td>58.0</td>\n",
              "      <td>web</td>\n",
              "      <td>Norwalk</td>\n",
              "      <td>CT</td>\n",
              "      <td>1-Dec-07</td>\n",
              "      <td>196000000</td>\n",
              "      <td>USD</td>\n",
              "      <td>d</td>\n",
              "    </tr>\n",
              "    <tr>\n",
              "      <th>579</th>\n",
              "      <td>oversee</td>\n",
              "      <td>OverSee</td>\n",
              "      <td>150.0</td>\n",
              "      <td>web</td>\n",
              "      <td>Los Angeles</td>\n",
              "      <td>CA</td>\n",
              "      <td>1-Jan-08</td>\n",
              "      <td>150000000</td>\n",
              "      <td>USD</td>\n",
              "      <td>a</td>\n",
              "    </tr>\n",
              "    <tr>\n",
              "      <th>804</th>\n",
              "      <td>vmware</td>\n",
              "      <td>VMware</td>\n",
              "      <td>5000.0</td>\n",
              "      <td>NaN</td>\n",
              "      <td>Palo Alto</td>\n",
              "      <td>CA</td>\n",
              "      <td>30-Jul-07</td>\n",
              "      <td>150000000</td>\n",
              "      <td>USD</td>\n",
              "      <td>unattributed</td>\n",
              "    </tr>\n",
              "  </tbody>\n",
              "</table>\n",
              "</div>"
            ],
            "text/plain": [
              "     permalink   company  numEmps  ...  raisedAmt raisedCurrency         round\n",
              "1104   zenimax   ZeniMax      NaN  ...  300000000            USD             a\n",
              "14    facebook  Facebook    450.0  ...  300000000            USD             c\n",
              "923      kayak     Kayak     58.0  ...  196000000            USD             d\n",
              "579    oversee   OverSee    150.0  ...  150000000            USD             a\n",
              "804     vmware    VMware   5000.0  ...  150000000            USD  unattributed\n",
              "\n",
              "[5 rows x 10 columns]"
            ]
          },
          "metadata": {
            "tags": []
          },
          "execution_count": 8
        }
      ]
    },
    {
      "cell_type": "markdown",
      "metadata": {
        "id": "hDlgBN9s1OiE",
        "colab_type": "text"
      },
      "source": [
        "**6. Group the dataset by state column**"
      ]
    },
    {
      "cell_type": "code",
      "metadata": {
        "id": "oi3z0VXl1bHo",
        "colab_type": "code",
        "colab": {}
      },
      "source": [
        "group_df = df.groupby('state')\n"
      ],
      "execution_count": 0,
      "outputs": []
    },
    {
      "cell_type": "markdown",
      "metadata": {
        "id": "EBatQNO42VpU",
        "colab_type": "text"
      },
      "source": [
        "**7. Count on every column of each group**"
      ]
    },
    {
      "cell_type": "code",
      "metadata": {
        "id": "XFzOpOuK2fla",
        "colab_type": "code",
        "outputId": "02b04947-2227-41de-f213-04282bb8664c",
        "colab": {
          "base_uri": "https://localhost:8080/",
          "height": 1000
        }
      },
      "source": [
        "group_df.count()"
      ],
      "execution_count": 0,
      "outputs": [
        {
          "output_type": "execute_result",
          "data": {
            "text/html": [
              "<div>\n",
              "<style scoped>\n",
              "    .dataframe tbody tr th:only-of-type {\n",
              "        vertical-align: middle;\n",
              "    }\n",
              "\n",
              "    .dataframe tbody tr th {\n",
              "        vertical-align: top;\n",
              "    }\n",
              "\n",
              "    .dataframe thead th {\n",
              "        text-align: right;\n",
              "    }\n",
              "</style>\n",
              "<table border=\"1\" class=\"dataframe\">\n",
              "  <thead>\n",
              "    <tr style=\"text-align: right;\">\n",
              "      <th></th>\n",
              "      <th>permalink</th>\n",
              "      <th>company</th>\n",
              "      <th>numEmps</th>\n",
              "      <th>category</th>\n",
              "      <th>city</th>\n",
              "      <th>fundedDate</th>\n",
              "      <th>raisedAmt</th>\n",
              "      <th>raisedCurrency</th>\n",
              "      <th>round</th>\n",
              "    </tr>\n",
              "    <tr>\n",
              "      <th>state</th>\n",
              "      <th></th>\n",
              "      <th></th>\n",
              "      <th></th>\n",
              "      <th></th>\n",
              "      <th></th>\n",
              "      <th></th>\n",
              "      <th></th>\n",
              "      <th></th>\n",
              "      <th></th>\n",
              "    </tr>\n",
              "  </thead>\n",
              "  <tbody>\n",
              "    <tr>\n",
              "      <th>AZ</th>\n",
              "      <td>9</td>\n",
              "      <td>9</td>\n",
              "      <td>5</td>\n",
              "      <td>9</td>\n",
              "      <td>9</td>\n",
              "      <td>9</td>\n",
              "      <td>9</td>\n",
              "      <td>9</td>\n",
              "      <td>9</td>\n",
              "    </tr>\n",
              "    <tr>\n",
              "      <th>CA</th>\n",
              "      <td>873</td>\n",
              "      <td>873</td>\n",
              "      <td>322</td>\n",
              "      <td>855</td>\n",
              "      <td>860</td>\n",
              "      <td>873</td>\n",
              "      <td>873</td>\n",
              "      <td>873</td>\n",
              "      <td>873</td>\n",
              "    </tr>\n",
              "    <tr>\n",
              "      <th>CO</th>\n",
              "      <td>33</td>\n",
              "      <td>33</td>\n",
              "      <td>5</td>\n",
              "      <td>31</td>\n",
              "      <td>33</td>\n",
              "      <td>33</td>\n",
              "      <td>33</td>\n",
              "      <td>33</td>\n",
              "      <td>33</td>\n",
              "    </tr>\n",
              "    <tr>\n",
              "      <th>CT</th>\n",
              "      <td>13</td>\n",
              "      <td>13</td>\n",
              "      <td>10</td>\n",
              "      <td>13</td>\n",
              "      <td>13</td>\n",
              "      <td>13</td>\n",
              "      <td>13</td>\n",
              "      <td>13</td>\n",
              "      <td>13</td>\n",
              "    </tr>\n",
              "    <tr>\n",
              "      <th>DC</th>\n",
              "      <td>10</td>\n",
              "      <td>10</td>\n",
              "      <td>1</td>\n",
              "      <td>10</td>\n",
              "      <td>10</td>\n",
              "      <td>10</td>\n",
              "      <td>10</td>\n",
              "      <td>10</td>\n",
              "      <td>10</td>\n",
              "    </tr>\n",
              "    <tr>\n",
              "      <th>FL</th>\n",
              "      <td>22</td>\n",
              "      <td>22</td>\n",
              "      <td>9</td>\n",
              "      <td>22</td>\n",
              "      <td>22</td>\n",
              "      <td>22</td>\n",
              "      <td>22</td>\n",
              "      <td>22</td>\n",
              "      <td>22</td>\n",
              "    </tr>\n",
              "    <tr>\n",
              "      <th>GA</th>\n",
              "      <td>8</td>\n",
              "      <td>8</td>\n",
              "      <td>1</td>\n",
              "      <td>8</td>\n",
              "      <td>8</td>\n",
              "      <td>8</td>\n",
              "      <td>8</td>\n",
              "      <td>8</td>\n",
              "      <td>8</td>\n",
              "    </tr>\n",
              "    <tr>\n",
              "      <th>IA</th>\n",
              "      <td>1</td>\n",
              "      <td>1</td>\n",
              "      <td>1</td>\n",
              "      <td>1</td>\n",
              "      <td>1</td>\n",
              "      <td>1</td>\n",
              "      <td>1</td>\n",
              "      <td>1</td>\n",
              "      <td>1</td>\n",
              "    </tr>\n",
              "    <tr>\n",
              "      <th>ID</th>\n",
              "      <td>2</td>\n",
              "      <td>2</td>\n",
              "      <td>0</td>\n",
              "      <td>2</td>\n",
              "      <td>2</td>\n",
              "      <td>2</td>\n",
              "      <td>2</td>\n",
              "      <td>2</td>\n",
              "      <td>2</td>\n",
              "    </tr>\n",
              "    <tr>\n",
              "      <th>IL</th>\n",
              "      <td>17</td>\n",
              "      <td>17</td>\n",
              "      <td>5</td>\n",
              "      <td>17</td>\n",
              "      <td>17</td>\n",
              "      <td>17</td>\n",
              "      <td>17</td>\n",
              "      <td>17</td>\n",
              "      <td>17</td>\n",
              "    </tr>\n",
              "    <tr>\n",
              "      <th>IN</th>\n",
              "      <td>5</td>\n",
              "      <td>5</td>\n",
              "      <td>4</td>\n",
              "      <td>5</td>\n",
              "      <td>5</td>\n",
              "      <td>5</td>\n",
              "      <td>5</td>\n",
              "      <td>5</td>\n",
              "      <td>5</td>\n",
              "    </tr>\n",
              "    <tr>\n",
              "      <th>LA</th>\n",
              "      <td>1</td>\n",
              "      <td>1</td>\n",
              "      <td>1</td>\n",
              "      <td>1</td>\n",
              "      <td>1</td>\n",
              "      <td>1</td>\n",
              "      <td>1</td>\n",
              "      <td>1</td>\n",
              "      <td>1</td>\n",
              "    </tr>\n",
              "    <tr>\n",
              "      <th>MA</th>\n",
              "      <td>107</td>\n",
              "      <td>107</td>\n",
              "      <td>46</td>\n",
              "      <td>107</td>\n",
              "      <td>107</td>\n",
              "      <td>107</td>\n",
              "      <td>107</td>\n",
              "      <td>107</td>\n",
              "      <td>107</td>\n",
              "    </tr>\n",
              "    <tr>\n",
              "      <th>MD</th>\n",
              "      <td>8</td>\n",
              "      <td>8</td>\n",
              "      <td>6</td>\n",
              "      <td>8</td>\n",
              "      <td>8</td>\n",
              "      <td>8</td>\n",
              "      <td>8</td>\n",
              "      <td>8</td>\n",
              "      <td>8</td>\n",
              "    </tr>\n",
              "    <tr>\n",
              "      <th>ME</th>\n",
              "      <td>3</td>\n",
              "      <td>3</td>\n",
              "      <td>3</td>\n",
              "      <td>3</td>\n",
              "      <td>3</td>\n",
              "      <td>3</td>\n",
              "      <td>3</td>\n",
              "      <td>3</td>\n",
              "      <td>3</td>\n",
              "    </tr>\n",
              "    <tr>\n",
              "      <th>MI</th>\n",
              "      <td>1</td>\n",
              "      <td>1</td>\n",
              "      <td>1</td>\n",
              "      <td>1</td>\n",
              "      <td>1</td>\n",
              "      <td>1</td>\n",
              "      <td>1</td>\n",
              "      <td>1</td>\n",
              "      <td>1</td>\n",
              "    </tr>\n",
              "    <tr>\n",
              "      <th>MN</th>\n",
              "      <td>1</td>\n",
              "      <td>1</td>\n",
              "      <td>1</td>\n",
              "      <td>1</td>\n",
              "      <td>1</td>\n",
              "      <td>1</td>\n",
              "      <td>1</td>\n",
              "      <td>1</td>\n",
              "      <td>1</td>\n",
              "    </tr>\n",
              "    <tr>\n",
              "      <th>MO</th>\n",
              "      <td>2</td>\n",
              "      <td>2</td>\n",
              "      <td>1</td>\n",
              "      <td>2</td>\n",
              "      <td>2</td>\n",
              "      <td>2</td>\n",
              "      <td>2</td>\n",
              "      <td>2</td>\n",
              "      <td>2</td>\n",
              "    </tr>\n",
              "    <tr>\n",
              "      <th>NC</th>\n",
              "      <td>13</td>\n",
              "      <td>13</td>\n",
              "      <td>9</td>\n",
              "      <td>11</td>\n",
              "      <td>13</td>\n",
              "      <td>13</td>\n",
              "      <td>13</td>\n",
              "      <td>13</td>\n",
              "      <td>13</td>\n",
              "    </tr>\n",
              "    <tr>\n",
              "      <th>ND</th>\n",
              "      <td>1</td>\n",
              "      <td>1</td>\n",
              "      <td>1</td>\n",
              "      <td>1</td>\n",
              "      <td>1</td>\n",
              "      <td>1</td>\n",
              "      <td>1</td>\n",
              "      <td>1</td>\n",
              "      <td>1</td>\n",
              "    </tr>\n",
              "    <tr>\n",
              "      <th>NE</th>\n",
              "      <td>1</td>\n",
              "      <td>1</td>\n",
              "      <td>0</td>\n",
              "      <td>1</td>\n",
              "      <td>1</td>\n",
              "      <td>1</td>\n",
              "      <td>1</td>\n",
              "      <td>1</td>\n",
              "      <td>1</td>\n",
              "    </tr>\n",
              "    <tr>\n",
              "      <th>NJ</th>\n",
              "      <td>10</td>\n",
              "      <td>10</td>\n",
              "      <td>1</td>\n",
              "      <td>10</td>\n",
              "      <td>10</td>\n",
              "      <td>10</td>\n",
              "      <td>10</td>\n",
              "      <td>10</td>\n",
              "      <td>10</td>\n",
              "    </tr>\n",
              "    <tr>\n",
              "      <th>NM</th>\n",
              "      <td>3</td>\n",
              "      <td>3</td>\n",
              "      <td>2</td>\n",
              "      <td>3</td>\n",
              "      <td>3</td>\n",
              "      <td>3</td>\n",
              "      <td>3</td>\n",
              "      <td>3</td>\n",
              "      <td>3</td>\n",
              "    </tr>\n",
              "    <tr>\n",
              "      <th>NY</th>\n",
              "      <td>125</td>\n",
              "      <td>125</td>\n",
              "      <td>57</td>\n",
              "      <td>124</td>\n",
              "      <td>124</td>\n",
              "      <td>125</td>\n",
              "      <td>125</td>\n",
              "      <td>125</td>\n",
              "      <td>125</td>\n",
              "    </tr>\n",
              "    <tr>\n",
              "      <th>OH</th>\n",
              "      <td>1</td>\n",
              "      <td>1</td>\n",
              "      <td>0</td>\n",
              "      <td>1</td>\n",
              "      <td>1</td>\n",
              "      <td>1</td>\n",
              "      <td>1</td>\n",
              "      <td>1</td>\n",
              "      <td>1</td>\n",
              "    </tr>\n",
              "    <tr>\n",
              "      <th>OR</th>\n",
              "      <td>8</td>\n",
              "      <td>8</td>\n",
              "      <td>4</td>\n",
              "      <td>8</td>\n",
              "      <td>8</td>\n",
              "      <td>8</td>\n",
              "      <td>8</td>\n",
              "      <td>8</td>\n",
              "      <td>8</td>\n",
              "    </tr>\n",
              "    <tr>\n",
              "      <th>PA</th>\n",
              "      <td>21</td>\n",
              "      <td>21</td>\n",
              "      <td>8</td>\n",
              "      <td>21</td>\n",
              "      <td>21</td>\n",
              "      <td>21</td>\n",
              "      <td>21</td>\n",
              "      <td>21</td>\n",
              "      <td>21</td>\n",
              "    </tr>\n",
              "    <tr>\n",
              "      <th>RI</th>\n",
              "      <td>1</td>\n",
              "      <td>1</td>\n",
              "      <td>0</td>\n",
              "      <td>1</td>\n",
              "      <td>1</td>\n",
              "      <td>1</td>\n",
              "      <td>1</td>\n",
              "      <td>1</td>\n",
              "      <td>1</td>\n",
              "    </tr>\n",
              "    <tr>\n",
              "      <th>TN</th>\n",
              "      <td>3</td>\n",
              "      <td>3</td>\n",
              "      <td>0</td>\n",
              "      <td>3</td>\n",
              "      <td>3</td>\n",
              "      <td>3</td>\n",
              "      <td>3</td>\n",
              "      <td>3</td>\n",
              "      <td>3</td>\n",
              "    </tr>\n",
              "    <tr>\n",
              "      <th>TX</th>\n",
              "      <td>25</td>\n",
              "      <td>25</td>\n",
              "      <td>11</td>\n",
              "      <td>25</td>\n",
              "      <td>25</td>\n",
              "      <td>25</td>\n",
              "      <td>25</td>\n",
              "      <td>25</td>\n",
              "      <td>25</td>\n",
              "    </tr>\n",
              "    <tr>\n",
              "      <th>UT</th>\n",
              "      <td>12</td>\n",
              "      <td>12</td>\n",
              "      <td>5</td>\n",
              "      <td>12</td>\n",
              "      <td>12</td>\n",
              "      <td>12</td>\n",
              "      <td>12</td>\n",
              "      <td>12</td>\n",
              "      <td>12</td>\n",
              "    </tr>\n",
              "    <tr>\n",
              "      <th>VA</th>\n",
              "      <td>23</td>\n",
              "      <td>23</td>\n",
              "      <td>7</td>\n",
              "      <td>22</td>\n",
              "      <td>20</td>\n",
              "      <td>23</td>\n",
              "      <td>23</td>\n",
              "      <td>23</td>\n",
              "      <td>23</td>\n",
              "    </tr>\n",
              "    <tr>\n",
              "      <th>WA</th>\n",
              "      <td>97</td>\n",
              "      <td>97</td>\n",
              "      <td>40</td>\n",
              "      <td>97</td>\n",
              "      <td>96</td>\n",
              "      <td>97</td>\n",
              "      <td>97</td>\n",
              "      <td>97</td>\n",
              "      <td>97</td>\n",
              "    </tr>\n",
              "  </tbody>\n",
              "</table>\n",
              "</div>"
            ],
            "text/plain": [
              "       permalink  company  numEmps  ...  raisedAmt  raisedCurrency  round\n",
              "state                               ...                                  \n",
              "AZ             9        9        5  ...          9               9      9\n",
              "CA           873      873      322  ...        873             873    873\n",
              "CO            33       33        5  ...         33              33     33\n",
              "CT            13       13       10  ...         13              13     13\n",
              "DC            10       10        1  ...         10              10     10\n",
              "FL            22       22        9  ...         22              22     22\n",
              "GA             8        8        1  ...          8               8      8\n",
              "IA             1        1        1  ...          1               1      1\n",
              "ID             2        2        0  ...          2               2      2\n",
              "IL            17       17        5  ...         17              17     17\n",
              "IN             5        5        4  ...          5               5      5\n",
              "LA             1        1        1  ...          1               1      1\n",
              "MA           107      107       46  ...        107             107    107\n",
              "MD             8        8        6  ...          8               8      8\n",
              "ME             3        3        3  ...          3               3      3\n",
              "MI             1        1        1  ...          1               1      1\n",
              "MN             1        1        1  ...          1               1      1\n",
              "MO             2        2        1  ...          2               2      2\n",
              "NC            13       13        9  ...         13              13     13\n",
              "ND             1        1        1  ...          1               1      1\n",
              "NE             1        1        0  ...          1               1      1\n",
              "NJ            10       10        1  ...         10              10     10\n",
              "NM             3        3        2  ...          3               3      3\n",
              "NY           125      125       57  ...        125             125    125\n",
              "OH             1        1        0  ...          1               1      1\n",
              "OR             8        8        4  ...          8               8      8\n",
              "PA            21       21        8  ...         21              21     21\n",
              "RI             1        1        0  ...          1               1      1\n",
              "TN             3        3        0  ...          3               3      3\n",
              "TX            25       25       11  ...         25              25     25\n",
              "UT            12       12        5  ...         12              12     12\n",
              "VA            23       23        7  ...         23              23     23\n",
              "WA            97       97       40  ...         97              97     97\n",
              "\n",
              "[33 rows x 9 columns]"
            ]
          },
          "metadata": {
            "tags": []
          },
          "execution_count": 11
        }
      ]
    },
    {
      "cell_type": "markdown",
      "metadata": {
        "id": "6Ax8upQ83HuU",
        "colab_type": "text"
      },
      "source": [
        "**8. Draw a chart using pandas**\n",
        "\n",
        "You can draw any chart that You would love to. "
      ]
    },
    {
      "cell_type": "code",
      "metadata": {
        "id": "cnh9ggJV3R7x",
        "colab_type": "code",
        "outputId": "4aaf509e-bb26-4f1d-ee41-003a1d8f9b99",
        "colab": {
          "base_uri": "https://localhost:8080/",
          "height": 551
        }
      },
      "source": [
        "df.groupby('fundedDate')['raisedAmt'].plot(legend=False)"
      ],
      "execution_count": 0,
      "outputs": [
        {
          "output_type": "stream",
          "text": [
            "/usr/local/lib/python3.6/dist-packages/pandas/plotting/_matplotlib/core.py:1085: UserWarning: Attempting to set identical left == right == 252.0 results in singular transformations; automatically expanding.\n",
            "  ax.set_xlim(left, right)\n"
          ],
          "name": "stderr"
        },
        {
          "output_type": "execute_result",
          "data": {
            "text/plain": [
              "fundedDate\n",
              "1-Apr-00    AxesSubplot(0.125,0.125;0.775x0.755)\n",
              "1-Apr-04    AxesSubplot(0.125,0.125;0.775x0.755)\n",
              "1-Apr-05    AxesSubplot(0.125,0.125;0.775x0.755)\n",
              "1-Apr-06    AxesSubplot(0.125,0.125;0.775x0.755)\n",
              "1-Apr-07    AxesSubplot(0.125,0.125;0.775x0.755)\n",
              "                            ...                 \n",
              "9-Mar-05    AxesSubplot(0.125,0.125;0.775x0.755)\n",
              "9-Mar-06    AxesSubplot(0.125,0.125;0.775x0.755)\n",
              "9-Mar-08    AxesSubplot(0.125,0.125;0.775x0.755)\n",
              "9-May-05    AxesSubplot(0.125,0.125;0.775x0.755)\n",
              "9-Nov-07    AxesSubplot(0.125,0.125;0.775x0.755)\n",
              "Name: raisedAmt, Length: 386, dtype: object"
            ]
          },
          "metadata": {
            "tags": []
          },
          "execution_count": 17
        },
        {
          "output_type": "display_data",
          "data": {
            "image/png": "[encoded data removed]",
            "text/plain": [
              "<Figure size 432x288 with 1 Axes>"
            ]
          },
          "metadata": {
            "tags": []
          }
        }
      ]
    },
    {
      "cell_type": "code",
      "metadata": {
        "id": "GUKgevvD5ohu",
        "colab_type": "code",
        "outputId": "2b2e4863-88dc-40e4-f22b-270ede699fd0",
        "colab": {
          "base_uri": "https://localhost:8080/",
          "height": 314
        }
      },
      "source": [
        "viz_df = df.groupby('state')['raisedAmt'].sum()\n",
        "viz_df.plot.bar()"
      ],
      "execution_count": 0,
      "outputs": [
        {
          "output_type": "execute_result",
          "data": {
            "text/plain": [
              "<matplotlib.axes._subplots.AxesSubplot at 0x7fcf2f4adfd0>"
            ]
          },
          "metadata": {
            "tags": []
          },
          "execution_count": 18
        },
        {
          "output_type": "display_data",
          "data": {
            "image/png": "[encoded data removed]",
            "text/plain": [
              "<Figure size 432x288 with 1 Axes>"
            ]
          },
          "metadata": {
            "tags": []
          }
        }
      ]
    }
  ]
}